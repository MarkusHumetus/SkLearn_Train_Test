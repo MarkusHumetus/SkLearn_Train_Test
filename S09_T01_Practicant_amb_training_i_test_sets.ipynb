{
 "cells": [
  {
   "cell_type": "markdown",
   "id": "dcd6be5a",
   "metadata": {},
   "source": [
    "## Descripció"
   ]
  },
  {
   "cell_type": "markdown",
   "id": "81fbe001",
   "metadata": {},
   "source": [
    "Familiaritza't amb la programació científica mitjantçant la llibreria SKLearn / Scikitlearn."
   ]
  },
  {
   "cell_type": "markdown",
   "id": "317c79e2",
   "metadata": {},
   "source": [
    "## Nivell 1"
   ]
  },
  {
   "cell_type": "markdown",
   "id": "432690a4",
   "metadata": {},
   "source": [
    "**- Exercici 1:**\n",
    "Parteix el conjunt de dadesDelayedFlights.csv en train i test. Estudia els dos conjunts per separat, a nivell descriptiu.\n"
   ]
  },
  {
   "cell_type": "code",
   "execution_count": 1,
   "id": "0299ceea",
   "metadata": {
    "collapsed": true
   },
   "outputs": [],
   "source": [
    "import matplotlib.pyplot as plt\n",
    "import seaborn as sns\n",
    "import numpy as np\n",
    "import pandas as pd\n",
    "import re\n",
    "%matplotlib inline   "
   ]
  },
  {
   "cell_type": "markdown",
   "id": "258163f6",
   "metadata": {},
   "source": [
    "Carreguem i netegem el dataframe de valors nuls o no útils:"
   ]
  },
  {
   "cell_type": "code",
   "execution_count": 2,
   "id": "df6d7bec",
   "metadata": {
    "collapsed": true
   },
   "outputs": [
    {
     "name": "stderr",
     "output_type": "stream",
     "text": [
      "C:\\Users\\march\\AppData\\Roaming\\Python\\Python37\\site-packages\\numpy\\lib\\arraysetops.py:580: FutureWarning: elementwise comparison failed; returning scalar instead, but in the future will perform elementwise comparison\n",
      "  mask |= (ar1 == a)\n"
     ]
    }
   ],
   "source": [
    "flights2008_df=pd.read_csv('DelayedFlights.csv', index_col=0)"
   ]
  },
  {
   "cell_type": "code",
   "execution_count": 3,
   "id": "30dc53ef",
   "metadata": {
    "collapsed": true
   },
   "outputs": [
    {
     "name": "stdout",
     "output_type": "stream",
     "text": [
      "<class 'pandas.core.frame.DataFrame'>\n",
      "Int64Index: 1936758 entries, 0 to 7009727\n",
      "Data columns (total 29 columns):\n",
      " #   Column             Dtype  \n",
      "---  ------             -----  \n",
      " 0   Year               int64  \n",
      " 1   Month              int64  \n",
      " 2   DayofMonth         int64  \n",
      " 3   DayOfWeek          int64  \n",
      " 4   DepTime            float64\n",
      " 5   CRSDepTime         int64  \n",
      " 6   ArrTime            float64\n",
      " 7   CRSArrTime         int64  \n",
      " 8   UniqueCarrier      object \n",
      " 9   FlightNum          int64  \n",
      " 10  TailNum            object \n",
      " 11  ActualElapsedTime  float64\n",
      " 12  CRSElapsedTime     float64\n",
      " 13  AirTime            float64\n",
      " 14  ArrDelay           float64\n",
      " 15  DepDelay           float64\n",
      " 16  Origin             object \n",
      " 17  Dest               object \n",
      " 18  Distance           int64  \n",
      " 19  TaxiIn             float64\n",
      " 20  TaxiOut            float64\n",
      " 21  Cancelled          int64  \n",
      " 22  CancellationCode   object \n",
      " 23  Diverted           int64  \n",
      " 24  CarrierDelay       float64\n",
      " 25  WeatherDelay       float64\n",
      " 26  NASDelay           float64\n",
      " 27  SecurityDelay      float64\n",
      " 28  LateAircraftDelay  float64\n",
      "dtypes: float64(14), int64(10), object(5)\n",
      "memory usage: 443.3+ MB\n"
     ]
    }
   ],
   "source": [
    "flights2008_df.info()"
   ]
  },
  {
   "cell_type": "code",
   "execution_count": 4,
   "id": "0b420144",
   "metadata": {
    "collapsed": true
   },
   "outputs": [
    {
     "data": {
      "text/html": [
       "<div>\n",
       "<style scoped>\n",
       "    .dataframe tbody tr th:only-of-type {\n",
       "        vertical-align: middle;\n",
       "    }\n",
       "\n",
       "    .dataframe tbody tr th {\n",
       "        vertical-align: top;\n",
       "    }\n",
       "\n",
       "    .dataframe thead th {\n",
       "        text-align: right;\n",
       "    }\n",
       "</style>\n",
       "<table border=\"1\" class=\"dataframe\">\n",
       "  <thead>\n",
       "    <tr style=\"text-align: right;\">\n",
       "      <th></th>\n",
       "      <th>Year</th>\n",
       "      <th>Month</th>\n",
       "      <th>DayofMonth</th>\n",
       "      <th>DayOfWeek</th>\n",
       "      <th>DepTime</th>\n",
       "      <th>CRSDepTime</th>\n",
       "      <th>ArrTime</th>\n",
       "      <th>CRSArrTime</th>\n",
       "      <th>UniqueCarrier</th>\n",
       "      <th>FlightNum</th>\n",
       "      <th>...</th>\n",
       "      <th>TaxiIn</th>\n",
       "      <th>TaxiOut</th>\n",
       "      <th>Cancelled</th>\n",
       "      <th>CancellationCode</th>\n",
       "      <th>Diverted</th>\n",
       "      <th>CarrierDelay</th>\n",
       "      <th>WeatherDelay</th>\n",
       "      <th>NASDelay</th>\n",
       "      <th>SecurityDelay</th>\n",
       "      <th>LateAircraftDelay</th>\n",
       "    </tr>\n",
       "  </thead>\n",
       "  <tbody>\n",
       "    <tr>\n",
       "      <th>0</th>\n",
       "      <td>2008</td>\n",
       "      <td>1</td>\n",
       "      <td>3</td>\n",
       "      <td>4</td>\n",
       "      <td>2003.0</td>\n",
       "      <td>1955</td>\n",
       "      <td>2211.0</td>\n",
       "      <td>2225</td>\n",
       "      <td>WN</td>\n",
       "      <td>335</td>\n",
       "      <td>...</td>\n",
       "      <td>4.0</td>\n",
       "      <td>8.0</td>\n",
       "      <td>0</td>\n",
       "      <td>N</td>\n",
       "      <td>0</td>\n",
       "      <td>NaN</td>\n",
       "      <td>NaN</td>\n",
       "      <td>NaN</td>\n",
       "      <td>NaN</td>\n",
       "      <td>NaN</td>\n",
       "    </tr>\n",
       "    <tr>\n",
       "      <th>1</th>\n",
       "      <td>2008</td>\n",
       "      <td>1</td>\n",
       "      <td>3</td>\n",
       "      <td>4</td>\n",
       "      <td>754.0</td>\n",
       "      <td>735</td>\n",
       "      <td>1002.0</td>\n",
       "      <td>1000</td>\n",
       "      <td>WN</td>\n",
       "      <td>3231</td>\n",
       "      <td>...</td>\n",
       "      <td>5.0</td>\n",
       "      <td>10.0</td>\n",
       "      <td>0</td>\n",
       "      <td>N</td>\n",
       "      <td>0</td>\n",
       "      <td>NaN</td>\n",
       "      <td>NaN</td>\n",
       "      <td>NaN</td>\n",
       "      <td>NaN</td>\n",
       "      <td>NaN</td>\n",
       "    </tr>\n",
       "    <tr>\n",
       "      <th>2</th>\n",
       "      <td>2008</td>\n",
       "      <td>1</td>\n",
       "      <td>3</td>\n",
       "      <td>4</td>\n",
       "      <td>628.0</td>\n",
       "      <td>620</td>\n",
       "      <td>804.0</td>\n",
       "      <td>750</td>\n",
       "      <td>WN</td>\n",
       "      <td>448</td>\n",
       "      <td>...</td>\n",
       "      <td>3.0</td>\n",
       "      <td>17.0</td>\n",
       "      <td>0</td>\n",
       "      <td>N</td>\n",
       "      <td>0</td>\n",
       "      <td>NaN</td>\n",
       "      <td>NaN</td>\n",
       "      <td>NaN</td>\n",
       "      <td>NaN</td>\n",
       "      <td>NaN</td>\n",
       "    </tr>\n",
       "    <tr>\n",
       "      <th>4</th>\n",
       "      <td>2008</td>\n",
       "      <td>1</td>\n",
       "      <td>3</td>\n",
       "      <td>4</td>\n",
       "      <td>1829.0</td>\n",
       "      <td>1755</td>\n",
       "      <td>1959.0</td>\n",
       "      <td>1925</td>\n",
       "      <td>WN</td>\n",
       "      <td>3920</td>\n",
       "      <td>...</td>\n",
       "      <td>3.0</td>\n",
       "      <td>10.0</td>\n",
       "      <td>0</td>\n",
       "      <td>N</td>\n",
       "      <td>0</td>\n",
       "      <td>2.0</td>\n",
       "      <td>0.0</td>\n",
       "      <td>0.0</td>\n",
       "      <td>0.0</td>\n",
       "      <td>32.0</td>\n",
       "    </tr>\n",
       "    <tr>\n",
       "      <th>5</th>\n",
       "      <td>2008</td>\n",
       "      <td>1</td>\n",
       "      <td>3</td>\n",
       "      <td>4</td>\n",
       "      <td>1940.0</td>\n",
       "      <td>1915</td>\n",
       "      <td>2121.0</td>\n",
       "      <td>2110</td>\n",
       "      <td>WN</td>\n",
       "      <td>378</td>\n",
       "      <td>...</td>\n",
       "      <td>4.0</td>\n",
       "      <td>10.0</td>\n",
       "      <td>0</td>\n",
       "      <td>N</td>\n",
       "      <td>0</td>\n",
       "      <td>NaN</td>\n",
       "      <td>NaN</td>\n",
       "      <td>NaN</td>\n",
       "      <td>NaN</td>\n",
       "      <td>NaN</td>\n",
       "    </tr>\n",
       "  </tbody>\n",
       "</table>\n",
       "<p>5 rows × 29 columns</p>\n",
       "</div>"
      ],
      "text/plain": [
       "   Year  Month  DayofMonth  DayOfWeek  DepTime  CRSDepTime  ArrTime  \\\n",
       "0  2008      1           3          4   2003.0        1955   2211.0   \n",
       "1  2008      1           3          4    754.0         735   1002.0   \n",
       "2  2008      1           3          4    628.0         620    804.0   \n",
       "4  2008      1           3          4   1829.0        1755   1959.0   \n",
       "5  2008      1           3          4   1940.0        1915   2121.0   \n",
       "\n",
       "   CRSArrTime UniqueCarrier  FlightNum  ... TaxiIn  TaxiOut  Cancelled  \\\n",
       "0        2225            WN        335  ...    4.0      8.0          0   \n",
       "1        1000            WN       3231  ...    5.0     10.0          0   \n",
       "2         750            WN        448  ...    3.0     17.0          0   \n",
       "4        1925            WN       3920  ...    3.0     10.0          0   \n",
       "5        2110            WN        378  ...    4.0     10.0          0   \n",
       "\n",
       "   CancellationCode  Diverted  CarrierDelay WeatherDelay NASDelay  \\\n",
       "0                 N         0           NaN          NaN      NaN   \n",
       "1                 N         0           NaN          NaN      NaN   \n",
       "2                 N         0           NaN          NaN      NaN   \n",
       "4                 N         0           2.0          0.0      0.0   \n",
       "5                 N         0           NaN          NaN      NaN   \n",
       "\n",
       "   SecurityDelay  LateAircraftDelay  \n",
       "0            NaN                NaN  \n",
       "1            NaN                NaN  \n",
       "2            NaN                NaN  \n",
       "4            0.0               32.0  \n",
       "5            NaN                NaN  \n",
       "\n",
       "[5 rows x 29 columns]"
      ]
     },
     "execution_count": 4,
     "metadata": {},
     "output_type": "execute_result"
    }
   ],
   "source": [
    "flights2008_df.head()"
   ]
  },
  {
   "cell_type": "code",
   "execution_count": 5,
   "id": "819bb064",
   "metadata": {
    "collapsed": true
   },
   "outputs": [
    {
     "data": {
      "text/plain": [
       "<AxesSubplot:>"
      ]
     },
     "execution_count": 5,
     "metadata": {},
     "output_type": "execute_result"
    },
    {
     "data": {
      "image/png": "[encoded data removed]",
      "text/plain": [
       "<Figure size 432x288 with 2 Axes>"
      ]
     },
     "metadata": {
      "needs_background": "light"
     },
     "output_type": "display_data"
    }
   ],
   "source": [
    "sns.heatmap(flights2008_df.isnull(),cmap='viridis') #visualització gràfica dels valors nuls"
   ]
  },
  {
   "cell_type": "code",
   "execution_count": 6,
   "id": "2436efac",
   "metadata": {
    "collapsed": true
   },
   "outputs": [
    {
     "data": {
      "text/plain": [
       "Year                      0\n",
       "Month                     0\n",
       "DayofMonth                0\n",
       "DayOfWeek                 0\n",
       "DepTime                   0\n",
       "CRSDepTime                0\n",
       "ArrTime                7110\n",
       "CRSArrTime                0\n",
       "UniqueCarrier             0\n",
       "FlightNum                 0\n",
       "TailNum                   5\n",
       "ActualElapsedTime      8387\n",
       "CRSElapsedTime          198\n",
       "AirTime                8387\n",
       "ArrDelay               8387\n",
       "DepDelay                  0\n",
       "Origin                    0\n",
       "Dest                      0\n",
       "Distance                  0\n",
       "TaxiIn                 7110\n",
       "TaxiOut                 455\n",
       "Cancelled                 0\n",
       "CancellationCode          0\n",
       "Diverted                  0\n",
       "CarrierDelay         689270\n",
       "WeatherDelay         689270\n",
       "NASDelay             689270\n",
       "SecurityDelay        689270\n",
       "LateAircraftDelay    689270\n",
       "dtype: int64"
      ]
     },
     "execution_count": 6,
     "metadata": {},
     "output_type": "execute_result"
    }
   ],
   "source": [
    "flights2008_df.isnull().sum() #detalls dels nuls específics:"
   ]
  },
  {
   "cell_type": "markdown",
   "id": "6611c2d9",
   "metadata": {},
   "source": [
    "Mostra clarament que on hi manca força informació és en reportar els **minuts de retràs per cada causa**. De 1936758 entrades en fallen 689270 (35,6% del total).\n",
    "Hi han alguns registres que li falta la **hora d'arribada real**, amb el que no es pot treballar amb les dades de retrasos. Elimino aquests registres (7110) ja que només suposen el 0,37% de les dades totals. "
   ]
  },
  {
   "cell_type": "code",
   "execution_count": 7,
   "id": "731d83d4",
   "metadata": {
    "collapsed": true
   },
   "outputs": [],
   "source": [
    "indexDel=list(flights2008_df[flights2008_df['ArrTime'].isnull()].index)#index de les línees que s'han de borrar\n",
    "flights2008_df.drop(indexDel, inplace=True)"
   ]
  },
  {
   "cell_type": "code",
   "execution_count": 8,
   "id": "6fd2db6b",
   "metadata": {
    "collapsed": true
   },
   "outputs": [
    {
     "data": {
      "text/plain": [
       "Month                     0\n",
       "DayofMonth                0\n",
       "DayOfWeek                 0\n",
       "DepTime                   0\n",
       "CRSDepTime                0\n",
       "ArrTime                   0\n",
       "CRSArrTime                0\n",
       "UniqueCarrier             0\n",
       "FlightNum                 0\n",
       "TailNum                   3\n",
       "ActualElapsedTime      1277\n",
       "CRSElapsedTime            0\n",
       "AirTime                1277\n",
       "ArrDelay               1277\n",
       "DepDelay                  0\n",
       "Origin                    0\n",
       "Dest                      0\n",
       "Distance                  0\n",
       "TaxiIn                    0\n",
       "TaxiOut                   0\n",
       "Cancelled                 0\n",
       "CancellationCode          0\n",
       "Diverted                  0\n",
       "CarrierDelay         682160\n",
       "WeatherDelay         682160\n",
       "NASDelay             682160\n",
       "SecurityDelay        682160\n",
       "LateAircraftDelay    682160\n",
       "dtype: int64"
      ]
     },
     "execution_count": 8,
     "metadata": {},
     "output_type": "execute_result"
    }
   ],
   "source": [
    "flights2008_df.drop('Year',axis=1,inplace=True) #Eliminem columna any ja que no té sentit ja que totes les dades són del 2008\n",
    "flights2008_df.isnull().sum() #detalls dels nuls específics:"
   ]
  },
  {
   "cell_type": "markdown",
   "id": "61c57d25",
   "metadata": {},
   "source": [
    "Canviem el valor del número d'avió (TailNum) a 'Unkown' pels 3 registres que no el tenen definit."
   ]
  },
  {
   "cell_type": "code",
   "execution_count": 9,
   "id": "7b8d45bc",
   "metadata": {
    "collapsed": true
   },
   "outputs": [],
   "source": [
    "flights2008_df['TailNum'].fillna(value='Unknown',inplace=True)"
   ]
  },
  {
   "cell_type": "markdown",
   "id": "bf59998f",
   "metadata": {},
   "source": [
    "Eliminem també les que falten dades de temps de vol o retràs en l'arrivada que manquen i són molt poques respecte el total."
   ]
  },
  {
   "cell_type": "code",
   "execution_count": 10,
   "id": "afde0f84",
   "metadata": {
    "collapsed": true
   },
   "outputs": [
    {
     "data": {
      "text/plain": [
       "Month                     0\n",
       "DayofMonth                0\n",
       "DayOfWeek                 0\n",
       "DepTime                   0\n",
       "CRSDepTime                0\n",
       "ArrTime                   0\n",
       "CRSArrTime                0\n",
       "UniqueCarrier             0\n",
       "FlightNum                 0\n",
       "TailNum                   0\n",
       "ActualElapsedTime         0\n",
       "CRSElapsedTime            0\n",
       "AirTime                   0\n",
       "ArrDelay                  0\n",
       "DepDelay                  0\n",
       "Origin                    0\n",
       "Dest                      0\n",
       "Distance                  0\n",
       "TaxiIn                    0\n",
       "TaxiOut                   0\n",
       "Cancelled                 0\n",
       "CancellationCode          0\n",
       "Diverted                  0\n",
       "CarrierDelay         680883\n",
       "WeatherDelay         680883\n",
       "NASDelay             680883\n",
       "SecurityDelay        680883\n",
       "LateAircraftDelay    680883\n",
       "dtype: int64"
      ]
     },
     "execution_count": 10,
     "metadata": {},
     "output_type": "execute_result"
    }
   ],
   "source": [
    "indexDel=list(flights2008_df[flights2008_df['AirTime'].isnull()].index)#index de les línees que s'han de borrar\n",
    "flights2008_df.drop(indexDel, inplace=True)\n",
    "flights2008_df.isnull().sum()"
   ]
  },
  {
   "cell_type": "code",
   "execution_count": 11,
   "id": "6c330ee8",
   "metadata": {
    "collapsed": true
   },
   "outputs": [
    {
     "data": {
      "text/html": [
       "<div>\n",
       "<style scoped>\n",
       "    .dataframe tbody tr th:only-of-type {\n",
       "        vertical-align: middle;\n",
       "    }\n",
       "\n",
       "    .dataframe tbody tr th {\n",
       "        vertical-align: top;\n",
       "    }\n",
       "\n",
       "    .dataframe thead th {\n",
       "        text-align: right;\n",
       "    }\n",
       "</style>\n",
       "<table border=\"1\" class=\"dataframe\">\n",
       "  <thead>\n",
       "    <tr style=\"text-align: right;\">\n",
       "      <th></th>\n",
       "      <th>Month</th>\n",
       "      <th>DayofMonth</th>\n",
       "      <th>DayOfWeek</th>\n",
       "      <th>DepTime</th>\n",
       "      <th>CRSDepTime</th>\n",
       "      <th>ArrTime</th>\n",
       "      <th>CRSArrTime</th>\n",
       "      <th>UniqueCarrier</th>\n",
       "      <th>FlightNum</th>\n",
       "      <th>TailNum</th>\n",
       "      <th>...</th>\n",
       "      <th>Distance</th>\n",
       "      <th>TaxiIn</th>\n",
       "      <th>TaxiOut</th>\n",
       "      <th>CancellationCode</th>\n",
       "      <th>Diverted</th>\n",
       "      <th>CarrierDelay</th>\n",
       "      <th>WeatherDelay</th>\n",
       "      <th>NASDelay</th>\n",
       "      <th>SecurityDelay</th>\n",
       "      <th>LateAircraftDelay</th>\n",
       "    </tr>\n",
       "    <tr>\n",
       "      <th>Cancelled</th>\n",
       "      <th></th>\n",
       "      <th></th>\n",
       "      <th></th>\n",
       "      <th></th>\n",
       "      <th></th>\n",
       "      <th></th>\n",
       "      <th></th>\n",
       "      <th></th>\n",
       "      <th></th>\n",
       "      <th></th>\n",
       "      <th></th>\n",
       "      <th></th>\n",
       "      <th></th>\n",
       "      <th></th>\n",
       "      <th></th>\n",
       "      <th></th>\n",
       "      <th></th>\n",
       "      <th></th>\n",
       "      <th></th>\n",
       "      <th></th>\n",
       "      <th></th>\n",
       "    </tr>\n",
       "  </thead>\n",
       "  <tbody>\n",
       "    <tr>\n",
       "      <th>0</th>\n",
       "      <td>1928371</td>\n",
       "      <td>1928371</td>\n",
       "      <td>1928371</td>\n",
       "      <td>1928371</td>\n",
       "      <td>1928371</td>\n",
       "      <td>1928371</td>\n",
       "      <td>1928371</td>\n",
       "      <td>1928371</td>\n",
       "      <td>1928371</td>\n",
       "      <td>1928371</td>\n",
       "      <td>...</td>\n",
       "      <td>1928371</td>\n",
       "      <td>1928371</td>\n",
       "      <td>1928371</td>\n",
       "      <td>1928371</td>\n",
       "      <td>1928371</td>\n",
       "      <td>1247488</td>\n",
       "      <td>1247488</td>\n",
       "      <td>1247488</td>\n",
       "      <td>1247488</td>\n",
       "      <td>1247488</td>\n",
       "    </tr>\n",
       "  </tbody>\n",
       "</table>\n",
       "<p>1 rows × 27 columns</p>\n",
       "</div>"
      ],
      "text/plain": [
       "             Month  DayofMonth  DayOfWeek  DepTime  CRSDepTime  ArrTime  \\\n",
       "Cancelled                                                                 \n",
       "0          1928371     1928371    1928371  1928371     1928371  1928371   \n",
       "\n",
       "           CRSArrTime  UniqueCarrier  FlightNum  TailNum  ...  Distance  \\\n",
       "Cancelled                                                 ...             \n",
       "0             1928371        1928371    1928371  1928371  ...   1928371   \n",
       "\n",
       "            TaxiIn  TaxiOut  CancellationCode  Diverted  CarrierDelay  \\\n",
       "Cancelled                                                               \n",
       "0          1928371  1928371           1928371   1928371       1247488   \n",
       "\n",
       "           WeatherDelay  NASDelay  SecurityDelay  LateAircraftDelay  \n",
       "Cancelled                                                            \n",
       "0               1247488   1247488        1247488            1247488  \n",
       "\n",
       "[1 rows x 27 columns]"
      ]
     },
     "execution_count": 11,
     "metadata": {},
     "output_type": "execute_result"
    }
   ],
   "source": [
    "flights2008_df.groupby('Cancelled').count()"
   ]
  },
  {
   "cell_type": "code",
   "execution_count": 12,
   "id": "537336bb",
   "metadata": {
    "collapsed": true
   },
   "outputs": [
    {
     "data": {
      "text/html": [
       "<div>\n",
       "<style scoped>\n",
       "    .dataframe tbody tr th:only-of-type {\n",
       "        vertical-align: middle;\n",
       "    }\n",
       "\n",
       "    .dataframe tbody tr th {\n",
       "        vertical-align: top;\n",
       "    }\n",
       "\n",
       "    .dataframe thead th {\n",
       "        text-align: right;\n",
       "    }\n",
       "</style>\n",
       "<table border=\"1\" class=\"dataframe\">\n",
       "  <thead>\n",
       "    <tr style=\"text-align: right;\">\n",
       "      <th></th>\n",
       "      <th>Month</th>\n",
       "      <th>DayofMonth</th>\n",
       "      <th>DayOfWeek</th>\n",
       "      <th>DepTime</th>\n",
       "      <th>CRSDepTime</th>\n",
       "      <th>ArrTime</th>\n",
       "      <th>CRSArrTime</th>\n",
       "      <th>UniqueCarrier</th>\n",
       "      <th>FlightNum</th>\n",
       "      <th>TailNum</th>\n",
       "      <th>...</th>\n",
       "      <th>Distance</th>\n",
       "      <th>TaxiIn</th>\n",
       "      <th>TaxiOut</th>\n",
       "      <th>Cancelled</th>\n",
       "      <th>CancellationCode</th>\n",
       "      <th>CarrierDelay</th>\n",
       "      <th>WeatherDelay</th>\n",
       "      <th>NASDelay</th>\n",
       "      <th>SecurityDelay</th>\n",
       "      <th>LateAircraftDelay</th>\n",
       "    </tr>\n",
       "    <tr>\n",
       "      <th>Diverted</th>\n",
       "      <th></th>\n",
       "      <th></th>\n",
       "      <th></th>\n",
       "      <th></th>\n",
       "      <th></th>\n",
       "      <th></th>\n",
       "      <th></th>\n",
       "      <th></th>\n",
       "      <th></th>\n",
       "      <th></th>\n",
       "      <th></th>\n",
       "      <th></th>\n",
       "      <th></th>\n",
       "      <th></th>\n",
       "      <th></th>\n",
       "      <th></th>\n",
       "      <th></th>\n",
       "      <th></th>\n",
       "      <th></th>\n",
       "      <th></th>\n",
       "      <th></th>\n",
       "    </tr>\n",
       "  </thead>\n",
       "  <tbody>\n",
       "    <tr>\n",
       "      <th>0</th>\n",
       "      <td>1928371</td>\n",
       "      <td>1928371</td>\n",
       "      <td>1928371</td>\n",
       "      <td>1928371</td>\n",
       "      <td>1928371</td>\n",
       "      <td>1928371</td>\n",
       "      <td>1928371</td>\n",
       "      <td>1928371</td>\n",
       "      <td>1928371</td>\n",
       "      <td>1928371</td>\n",
       "      <td>...</td>\n",
       "      <td>1928371</td>\n",
       "      <td>1928371</td>\n",
       "      <td>1928371</td>\n",
       "      <td>1928371</td>\n",
       "      <td>1928371</td>\n",
       "      <td>1247488</td>\n",
       "      <td>1247488</td>\n",
       "      <td>1247488</td>\n",
       "      <td>1247488</td>\n",
       "      <td>1247488</td>\n",
       "    </tr>\n",
       "  </tbody>\n",
       "</table>\n",
       "<p>1 rows × 27 columns</p>\n",
       "</div>"
      ],
      "text/plain": [
       "            Month  DayofMonth  DayOfWeek  DepTime  CRSDepTime  ArrTime  \\\n",
       "Diverted                                                                 \n",
       "0         1928371     1928371    1928371  1928371     1928371  1928371   \n",
       "\n",
       "          CRSArrTime  UniqueCarrier  FlightNum  TailNum  ...  Distance  \\\n",
       "Diverted                                                 ...             \n",
       "0            1928371        1928371    1928371  1928371  ...   1928371   \n",
       "\n",
       "           TaxiIn  TaxiOut  Cancelled  CancellationCode  CarrierDelay  \\\n",
       "Diverted                                                                \n",
       "0         1928371  1928371    1928371           1928371       1247488   \n",
       "\n",
       "          WeatherDelay  NASDelay  SecurityDelay  LateAircraftDelay  \n",
       "Diverted                                                            \n",
       "0              1247488   1247488        1247488            1247488  \n",
       "\n",
       "[1 rows x 27 columns]"
      ]
     },
     "execution_count": 12,
     "metadata": {},
     "output_type": "execute_result"
    }
   ],
   "source": [
    "flights2008_df.groupby('Diverted').count()"
   ]
  },
  {
   "cell_type": "markdown",
   "id": "19c8f0ae",
   "metadata": {},
   "source": [
    "Al netejar el dataframe no queden vols cancelats. Es poden borrar totes les columnes referents a la cancelació i desviació de vols."
   ]
  },
  {
   "cell_type": "code",
   "execution_count": 13,
   "id": "4806d55c",
   "metadata": {
    "collapsed": true
   },
   "outputs": [],
   "source": [
    "flights2008_df.drop(['Cancelled','CancellationCode', 'Diverted'],axis=1,inplace=True)"
   ]
  },
  {
   "cell_type": "markdown",
   "id": "60445e74",
   "metadata": {},
   "source": [
    "Finalment, canviem els nuls per unknown pel que fa a les causes del retràs:"
   ]
  },
  {
   "cell_type": "code",
   "execution_count": 14,
   "id": "cf82a87d",
   "metadata": {
    "collapsed": true
   },
   "outputs": [],
   "source": [
    "for i in ['CarrierDelay','WeatherDelay','NASDelay','SecurityDelay','LateAircraftDelay']:\n",
    "    flights2008_df[i].fillna(value='Unknown',inplace=True)"
   ]
  },
  {
   "cell_type": "code",
   "execution_count": 15,
   "id": "c1635959",
   "metadata": {
    "collapsed": true
   },
   "outputs": [
    {
     "data": {
      "text/plain": [
       "Month                0\n",
       "DayofMonth           0\n",
       "DayOfWeek            0\n",
       "DepTime              0\n",
       "CRSDepTime           0\n",
       "ArrTime              0\n",
       "CRSArrTime           0\n",
       "UniqueCarrier        0\n",
       "FlightNum            0\n",
       "TailNum              0\n",
       "ActualElapsedTime    0\n",
       "CRSElapsedTime       0\n",
       "AirTime              0\n",
       "ArrDelay             0\n",
       "DepDelay             0\n",
       "Origin               0\n",
       "Dest                 0\n",
       "Distance             0\n",
       "TaxiIn               0\n",
       "TaxiOut              0\n",
       "CarrierDelay         0\n",
       "WeatherDelay         0\n",
       "NASDelay             0\n",
       "SecurityDelay        0\n",
       "LateAircraftDelay    0\n",
       "dtype: int64"
      ]
     },
     "execution_count": 15,
     "metadata": {},
     "output_type": "execute_result"
    }
   ],
   "source": [
    "flights2008_df.isnull().sum()"
   ]
  },
  {
   "cell_type": "code",
   "execution_count": 16,
   "id": "1d4202a4",
   "metadata": {
    "collapsed": true
   },
   "outputs": [
    {
     "data": {
      "text/plain": [
       "<AxesSubplot:>"
      ]
     },
     "execution_count": 16,
     "metadata": {},
     "output_type": "execute_result"
    },
    {
     "data": {
      "image/png": "[encoded data removed]",
      "text/plain": [
       "<Figure size 432x288 with 2 Axes>"
      ]
     },
     "metadata": {
      "needs_background": "light"
     },
     "output_type": "display_data"
    }
   ],
   "source": [
    "sns.heatmap(flights2008_df.isnull(),cmap='viridis') #visualització gràfica dels valors nuls"
   ]
  },
  {
   "cell_type": "markdown",
   "id": "c790d273",
   "metadata": {},
   "source": [
    "Generarem la **columna objectiu** que a la vegada serà una columna dummie, ja que dirà si hi ha retràs o no."
   ]
  },
  {
   "cell_type": "code",
   "execution_count": 17,
   "id": "20d46152",
   "metadata": {
    "collapsed": true
   },
   "outputs": [],
   "source": [
    "flights2008_df['Delayed']=flights2008_df['ArrTime']>flights2008_df['CRSArrTime'] #Generem columna de si hi ha retràs (=True) o no (False)"
   ]
  },
  {
   "cell_type": "code",
   "execution_count": 18,
   "id": "fc84c7f1",
   "metadata": {
    "collapsed": true
   },
   "outputs": [
    {
     "data": {
      "text/html": [
       "<div>\n",
       "<style scoped>\n",
       "    .dataframe tbody tr th:only-of-type {\n",
       "        vertical-align: middle;\n",
       "    }\n",
       "\n",
       "    .dataframe tbody tr th {\n",
       "        vertical-align: top;\n",
       "    }\n",
       "\n",
       "    .dataframe thead th {\n",
       "        text-align: right;\n",
       "    }\n",
       "</style>\n",
       "<table border=\"1\" class=\"dataframe\">\n",
       "  <thead>\n",
       "    <tr style=\"text-align: right;\">\n",
       "      <th></th>\n",
       "      <th>Month</th>\n",
       "      <th>DayofMonth</th>\n",
       "      <th>DayOfWeek</th>\n",
       "      <th>DepTime</th>\n",
       "      <th>CRSDepTime</th>\n",
       "      <th>ArrTime</th>\n",
       "      <th>CRSArrTime</th>\n",
       "      <th>UniqueCarrier</th>\n",
       "      <th>FlightNum</th>\n",
       "      <th>TailNum</th>\n",
       "      <th>...</th>\n",
       "      <th>Origin</th>\n",
       "      <th>Dest</th>\n",
       "      <th>Distance</th>\n",
       "      <th>TaxiIn</th>\n",
       "      <th>TaxiOut</th>\n",
       "      <th>CarrierDelay</th>\n",
       "      <th>WeatherDelay</th>\n",
       "      <th>NASDelay</th>\n",
       "      <th>SecurityDelay</th>\n",
       "      <th>LateAircraftDelay</th>\n",
       "    </tr>\n",
       "    <tr>\n",
       "      <th>Delayed</th>\n",
       "      <th></th>\n",
       "      <th></th>\n",
       "      <th></th>\n",
       "      <th></th>\n",
       "      <th></th>\n",
       "      <th></th>\n",
       "      <th></th>\n",
       "      <th></th>\n",
       "      <th></th>\n",
       "      <th></th>\n",
       "      <th></th>\n",
       "      <th></th>\n",
       "      <th></th>\n",
       "      <th></th>\n",
       "      <th></th>\n",
       "      <th></th>\n",
       "      <th></th>\n",
       "      <th></th>\n",
       "      <th></th>\n",
       "      <th></th>\n",
       "      <th></th>\n",
       "    </tr>\n",
       "  </thead>\n",
       "  <tbody>\n",
       "    <tr>\n",
       "      <th>False</th>\n",
       "      <td>280464</td>\n",
       "      <td>280464</td>\n",
       "      <td>280464</td>\n",
       "      <td>280464</td>\n",
       "      <td>280464</td>\n",
       "      <td>280464</td>\n",
       "      <td>280464</td>\n",
       "      <td>280464</td>\n",
       "      <td>280464</td>\n",
       "      <td>280464</td>\n",
       "      <td>...</td>\n",
       "      <td>280464</td>\n",
       "      <td>280464</td>\n",
       "      <td>280464</td>\n",
       "      <td>280464</td>\n",
       "      <td>280464</td>\n",
       "      <td>280464</td>\n",
       "      <td>280464</td>\n",
       "      <td>280464</td>\n",
       "      <td>280464</td>\n",
       "      <td>280464</td>\n",
       "    </tr>\n",
       "    <tr>\n",
       "      <th>True</th>\n",
       "      <td>1647907</td>\n",
       "      <td>1647907</td>\n",
       "      <td>1647907</td>\n",
       "      <td>1647907</td>\n",
       "      <td>1647907</td>\n",
       "      <td>1647907</td>\n",
       "      <td>1647907</td>\n",
       "      <td>1647907</td>\n",
       "      <td>1647907</td>\n",
       "      <td>1647907</td>\n",
       "      <td>...</td>\n",
       "      <td>1647907</td>\n",
       "      <td>1647907</td>\n",
       "      <td>1647907</td>\n",
       "      <td>1647907</td>\n",
       "      <td>1647907</td>\n",
       "      <td>1647907</td>\n",
       "      <td>1647907</td>\n",
       "      <td>1647907</td>\n",
       "      <td>1647907</td>\n",
       "      <td>1647907</td>\n",
       "    </tr>\n",
       "  </tbody>\n",
       "</table>\n",
       "<p>2 rows × 25 columns</p>\n",
       "</div>"
      ],
      "text/plain": [
       "           Month  DayofMonth  DayOfWeek  DepTime  CRSDepTime  ArrTime  \\\n",
       "Delayed                                                                 \n",
       "False     280464      280464     280464   280464      280464   280464   \n",
       "True     1647907     1647907    1647907  1647907     1647907  1647907   \n",
       "\n",
       "         CRSArrTime  UniqueCarrier  FlightNum  TailNum  ...   Origin     Dest  \\\n",
       "Delayed                                                 ...                     \n",
       "False        280464         280464     280464   280464  ...   280464   280464   \n",
       "True        1647907        1647907    1647907  1647907  ...  1647907  1647907   \n",
       "\n",
       "         Distance   TaxiIn  TaxiOut  CarrierDelay  WeatherDelay  NASDelay  \\\n",
       "Delayed                                                                     \n",
       "False      280464   280464   280464        280464        280464    280464   \n",
       "True      1647907  1647907  1647907       1647907       1647907   1647907   \n",
       "\n",
       "         SecurityDelay  LateAircraftDelay  \n",
       "Delayed                                    \n",
       "False           280464             280464  \n",
       "True           1647907            1647907  \n",
       "\n",
       "[2 rows x 25 columns]"
      ]
     },
     "execution_count": 18,
     "metadata": {},
     "output_type": "execute_result"
    }
   ],
   "source": [
    "flights2008_df.groupby('Delayed').count()"
   ]
  },
  {
   "cell_type": "code",
   "execution_count": 19,
   "id": "64701a3a",
   "metadata": {
    "collapsed": true
   },
   "outputs": [],
   "source": [
    "flights2008_df['Delayed']=np.where(flights2008_df['Delayed']==True,np.uint8(1),np.uint8(0)) #Canvio a Dummie"
   ]
  },
  {
   "cell_type": "code",
   "execution_count": 20,
   "id": "5e625450",
   "metadata": {
    "collapsed": true
   },
   "outputs": [
    {
     "data": {
      "text/html": [
       "<div>\n",
       "<style scoped>\n",
       "    .dataframe tbody tr th:only-of-type {\n",
       "        vertical-align: middle;\n",
       "    }\n",
       "\n",
       "    .dataframe tbody tr th {\n",
       "        vertical-align: top;\n",
       "    }\n",
       "\n",
       "    .dataframe thead th {\n",
       "        text-align: right;\n",
       "    }\n",
       "</style>\n",
       "<table border=\"1\" class=\"dataframe\">\n",
       "  <thead>\n",
       "    <tr style=\"text-align: right;\">\n",
       "      <th></th>\n",
       "      <th>Month</th>\n",
       "      <th>DayofMonth</th>\n",
       "      <th>DayOfWeek</th>\n",
       "      <th>DepTime</th>\n",
       "      <th>CRSDepTime</th>\n",
       "      <th>ArrTime</th>\n",
       "      <th>CRSArrTime</th>\n",
       "      <th>UniqueCarrier</th>\n",
       "      <th>FlightNum</th>\n",
       "      <th>TailNum</th>\n",
       "      <th>...</th>\n",
       "      <th>Origin</th>\n",
       "      <th>Dest</th>\n",
       "      <th>Distance</th>\n",
       "      <th>TaxiIn</th>\n",
       "      <th>TaxiOut</th>\n",
       "      <th>CarrierDelay</th>\n",
       "      <th>WeatherDelay</th>\n",
       "      <th>NASDelay</th>\n",
       "      <th>SecurityDelay</th>\n",
       "      <th>LateAircraftDelay</th>\n",
       "    </tr>\n",
       "    <tr>\n",
       "      <th>Delayed</th>\n",
       "      <th></th>\n",
       "      <th></th>\n",
       "      <th></th>\n",
       "      <th></th>\n",
       "      <th></th>\n",
       "      <th></th>\n",
       "      <th></th>\n",
       "      <th></th>\n",
       "      <th></th>\n",
       "      <th></th>\n",
       "      <th></th>\n",
       "      <th></th>\n",
       "      <th></th>\n",
       "      <th></th>\n",
       "      <th></th>\n",
       "      <th></th>\n",
       "      <th></th>\n",
       "      <th></th>\n",
       "      <th></th>\n",
       "      <th></th>\n",
       "      <th></th>\n",
       "    </tr>\n",
       "  </thead>\n",
       "  <tbody>\n",
       "    <tr>\n",
       "      <th>0</th>\n",
       "      <td>280464</td>\n",
       "      <td>280464</td>\n",
       "      <td>280464</td>\n",
       "      <td>280464</td>\n",
       "      <td>280464</td>\n",
       "      <td>280464</td>\n",
       "      <td>280464</td>\n",
       "      <td>280464</td>\n",
       "      <td>280464</td>\n",
       "      <td>280464</td>\n",
       "      <td>...</td>\n",
       "      <td>280464</td>\n",
       "      <td>280464</td>\n",
       "      <td>280464</td>\n",
       "      <td>280464</td>\n",
       "      <td>280464</td>\n",
       "      <td>280464</td>\n",
       "      <td>280464</td>\n",
       "      <td>280464</td>\n",
       "      <td>280464</td>\n",
       "      <td>280464</td>\n",
       "    </tr>\n",
       "    <tr>\n",
       "      <th>1</th>\n",
       "      <td>1647907</td>\n",
       "      <td>1647907</td>\n",
       "      <td>1647907</td>\n",
       "      <td>1647907</td>\n",
       "      <td>1647907</td>\n",
       "      <td>1647907</td>\n",
       "      <td>1647907</td>\n",
       "      <td>1647907</td>\n",
       "      <td>1647907</td>\n",
       "      <td>1647907</td>\n",
       "      <td>...</td>\n",
       "      <td>1647907</td>\n",
       "      <td>1647907</td>\n",
       "      <td>1647907</td>\n",
       "      <td>1647907</td>\n",
       "      <td>1647907</td>\n",
       "      <td>1647907</td>\n",
       "      <td>1647907</td>\n",
       "      <td>1647907</td>\n",
       "      <td>1647907</td>\n",
       "      <td>1647907</td>\n",
       "    </tr>\n",
       "  </tbody>\n",
       "</table>\n",
       "<p>2 rows × 25 columns</p>\n",
       "</div>"
      ],
      "text/plain": [
       "           Month  DayofMonth  DayOfWeek  DepTime  CRSDepTime  ArrTime  \\\n",
       "Delayed                                                                 \n",
       "0         280464      280464     280464   280464      280464   280464   \n",
       "1        1647907     1647907    1647907  1647907     1647907  1647907   \n",
       "\n",
       "         CRSArrTime  UniqueCarrier  FlightNum  TailNum  ...   Origin     Dest  \\\n",
       "Delayed                                                 ...                     \n",
       "0            280464         280464     280464   280464  ...   280464   280464   \n",
       "1           1647907        1647907    1647907  1647907  ...  1647907  1647907   \n",
       "\n",
       "         Distance   TaxiIn  TaxiOut  CarrierDelay  WeatherDelay  NASDelay  \\\n",
       "Delayed                                                                     \n",
       "0          280464   280464   280464        280464        280464    280464   \n",
       "1         1647907  1647907  1647907       1647907       1647907   1647907   \n",
       "\n",
       "         SecurityDelay  LateAircraftDelay  \n",
       "Delayed                                    \n",
       "0               280464             280464  \n",
       "1              1647907            1647907  \n",
       "\n",
       "[2 rows x 25 columns]"
      ]
     },
     "execution_count": 20,
     "metadata": {},
     "output_type": "execute_result"
    }
   ],
   "source": [
    "flights2008_df.groupby('Delayed').count()"
   ]
  },
  {
   "cell_type": "markdown",
   "id": "ac0e68a1",
   "metadata": {},
   "source": [
    "Ara ja podem fer la divisió de valors objectius i la resta del dataframe en test i train subsets."
   ]
  },
  {
   "cell_type": "code",
   "execution_count": 21,
   "id": "8f703dbb",
   "metadata": {
    "collapsed": true
   },
   "outputs": [
    {
     "name": "stdout",
     "output_type": "stream",
     "text": [
      "(1292008, 25) (636363, 25) (1292008,) (636363,)\n"
     ]
    }
   ],
   "source": [
    "from collections import Counter\n",
    "from sklearn.datasets import make_classification\n",
    "from sklearn.model_selection import train_test_split\n",
    "y=flights2008_df.Delayed #prenem paràmetre de retràs (si=True/no=False) com l'objectiu\n",
    "X=flights2008_df.iloc[:,:-1] #tots els altres paràmetres estan en X\n",
    "X_train, X_test, y_train, y_test = train_test_split(X, y, test_size=0.33, random_state=1)\n",
    "print(X_train.shape, X_test.shape, y_train.shape, y_test.shape)"
   ]
  },
  {
   "cell_type": "code",
   "execution_count": 22,
   "id": "77c7e1e1",
   "metadata": {
    "collapsed": true
   },
   "outputs": [
    {
     "data": {
      "text/plain": [
       "31"
      ]
     },
     "execution_count": 22,
     "metadata": {},
     "output_type": "execute_result"
    }
   ],
   "source": [
    "flights2008_df.DayofMonth.nunique()"
   ]
  },
  {
   "cell_type": "code",
   "execution_count": 23,
   "id": "b4a0d61e",
   "metadata": {
    "collapsed": true
   },
   "outputs": [
    {
     "name": "stdout",
     "output_type": "stream",
     "text": [
      "Training set\n"
     ]
    },
    {
     "data": {
      "image/png": "[encoded data removed]",
      "text/plain": [
       "<Figure size 432x288 with 1 Axes>"
      ]
     },
     "metadata": {
      "needs_background": "light"
     },
     "output_type": "display_data"
    },
    {
     "name": "stdout",
     "output_type": "stream",
     "text": [
      "0 14.544089285723546\n",
      "1 85.45591071427646\n",
      "Testing set\n"
     ]
    },
    {
     "data": {
      "image/png": "[encoded data removed]",
      "text/plain": [
       "<Figure size 432x288 with 1 Axes>"
      ]
     },
     "metadata": {
      "needs_background": "light"
     },
     "output_type": "display_data"
    },
    {
     "name": "stdout",
     "output_type": "stream",
     "text": [
      "1 85.44478544478544\n",
      "0 14.555214555214555\n"
     ]
    }
   ],
   "source": [
    "import math\n",
    "def plot_class_dist(data):#data should be categorical parameter\n",
    "    dict = Counter(data)\n",
    "    names = list(dict.keys())\n",
    "    values = list(dict.values())\n",
    "    plt.bar(range(len(dict)), values, tick_label=names)\n",
    "    plt.show()\n",
    "    for j in names:\n",
    "        print(j,100*dict[j]/sum(values))\n",
    "        \n",
    "print ('Training set')\n",
    "plot_class_dist(y)\n",
    "   \n",
    "print ('Testing set')\n",
    "plot_class_dist(y_test)  \n",
    "    \n"
   ]
  },
  {
   "cell_type": "markdown",
   "id": "102243c6",
   "metadata": {},
   "source": [
    "En fem un estudi estadístic emprant la funció describe() per els 4 subsets de dades generats:"
   ]
  },
  {
   "cell_type": "code",
   "execution_count": 24,
   "id": "b1cd0cdf",
   "metadata": {
    "collapsed": true
   },
   "outputs": [
    {
     "data": {
      "text/html": [
       "<div>\n",
       "<style scoped>\n",
       "    .dataframe tbody tr th:only-of-type {\n",
       "        vertical-align: middle;\n",
       "    }\n",
       "\n",
       "    .dataframe tbody tr th {\n",
       "        vertical-align: top;\n",
       "    }\n",
       "\n",
       "    .dataframe thead th {\n",
       "        text-align: right;\n",
       "    }\n",
       "</style>\n",
       "<table border=\"1\" class=\"dataframe\">\n",
       "  <thead>\n",
       "    <tr style=\"text-align: right;\">\n",
       "      <th></th>\n",
       "      <th>Month</th>\n",
       "      <th>DayofMonth</th>\n",
       "      <th>DayOfWeek</th>\n",
       "      <th>DepTime</th>\n",
       "      <th>CRSDepTime</th>\n",
       "      <th>ArrTime</th>\n",
       "      <th>CRSArrTime</th>\n",
       "      <th>FlightNum</th>\n",
       "      <th>ActualElapsedTime</th>\n",
       "      <th>CRSElapsedTime</th>\n",
       "      <th>AirTime</th>\n",
       "      <th>ArrDelay</th>\n",
       "      <th>DepDelay</th>\n",
       "      <th>Distance</th>\n",
       "      <th>TaxiIn</th>\n",
       "      <th>TaxiOut</th>\n",
       "    </tr>\n",
       "  </thead>\n",
       "  <tbody>\n",
       "    <tr>\n",
       "      <th>count</th>\n",
       "      <td>1.928371e+06</td>\n",
       "      <td>1.928371e+06</td>\n",
       "      <td>1.928371e+06</td>\n",
       "      <td>1.928371e+06</td>\n",
       "      <td>1.928371e+06</td>\n",
       "      <td>1.928371e+06</td>\n",
       "      <td>1.928371e+06</td>\n",
       "      <td>1.928371e+06</td>\n",
       "      <td>1.928371e+06</td>\n",
       "      <td>1.928371e+06</td>\n",
       "      <td>1.928371e+06</td>\n",
       "      <td>1.928371e+06</td>\n",
       "      <td>1.928371e+06</td>\n",
       "      <td>1.928371e+06</td>\n",
       "      <td>1.928371e+06</td>\n",
       "      <td>1.928371e+06</td>\n",
       "    </tr>\n",
       "    <tr>\n",
       "      <th>mean</th>\n",
       "      <td>6.107855e+00</td>\n",
       "      <td>1.575206e+01</td>\n",
       "      <td>3.984999e+00</td>\n",
       "      <td>1.518648e+03</td>\n",
       "      <td>1.467718e+03</td>\n",
       "      <td>1.610242e+03</td>\n",
       "      <td>1.634196e+03</td>\n",
       "      <td>2.184296e+03</td>\n",
       "      <td>1.333059e+02</td>\n",
       "      <td>1.341977e+02</td>\n",
       "      <td>1.082771e+02</td>\n",
       "      <td>4.219988e+01</td>\n",
       "      <td>4.309169e+01</td>\n",
       "      <td>7.649486e+02</td>\n",
       "      <td>6.811388e+00</td>\n",
       "      <td>1.821733e+01</td>\n",
       "    </tr>\n",
       "    <tr>\n",
       "      <th>std</th>\n",
       "      <td>3.480753e+00</td>\n",
       "      <td>8.776566e+00</td>\n",
       "      <td>1.996050e+00</td>\n",
       "      <td>4.504352e+02</td>\n",
       "      <td>4.247281e+02</td>\n",
       "      <td>5.480009e+02</td>\n",
       "      <td>4.646284e+02</td>\n",
       "      <td>1.944450e+03</td>\n",
       "      <td>7.206007e+01</td>\n",
       "      <td>7.123339e+01</td>\n",
       "      <td>6.864261e+01</td>\n",
       "      <td>5.678472e+01</td>\n",
       "      <td>5.326600e+01</td>\n",
       "      <td>5.738858e+02</td>\n",
       "      <td>5.268051e+00</td>\n",
       "      <td>1.430838e+01</td>\n",
       "    </tr>\n",
       "    <tr>\n",
       "      <th>min</th>\n",
       "      <td>1.000000e+00</td>\n",
       "      <td>1.000000e+00</td>\n",
       "      <td>1.000000e+00</td>\n",
       "      <td>1.000000e+00</td>\n",
       "      <td>0.000000e+00</td>\n",
       "      <td>1.000000e+00</td>\n",
       "      <td>0.000000e+00</td>\n",
       "      <td>1.000000e+00</td>\n",
       "      <td>1.400000e+01</td>\n",
       "      <td>-2.100000e+01</td>\n",
       "      <td>0.000000e+00</td>\n",
       "      <td>-1.090000e+02</td>\n",
       "      <td>6.000000e+00</td>\n",
       "      <td>1.100000e+01</td>\n",
       "      <td>0.000000e+00</td>\n",
       "      <td>0.000000e+00</td>\n",
       "    </tr>\n",
       "    <tr>\n",
       "      <th>25%</th>\n",
       "      <td>3.000000e+00</td>\n",
       "      <td>8.000000e+00</td>\n",
       "      <td>2.000000e+00</td>\n",
       "      <td>1.203000e+03</td>\n",
       "      <td>1.135000e+03</td>\n",
       "      <td>1.316000e+03</td>\n",
       "      <td>1.325000e+03</td>\n",
       "      <td>6.110000e+02</td>\n",
       "      <td>8.000000e+01</td>\n",
       "      <td>8.200000e+01</td>\n",
       "      <td>5.800000e+01</td>\n",
       "      <td>9.000000e+00</td>\n",
       "      <td>1.200000e+01</td>\n",
       "      <td>3.380000e+02</td>\n",
       "      <td>4.000000e+00</td>\n",
       "      <td>1.000000e+01</td>\n",
       "    </tr>\n",
       "    <tr>\n",
       "      <th>50%</th>\n",
       "      <td>6.000000e+00</td>\n",
       "      <td>1.600000e+01</td>\n",
       "      <td>4.000000e+00</td>\n",
       "      <td>1.545000e+03</td>\n",
       "      <td>1.510000e+03</td>\n",
       "      <td>1.715000e+03</td>\n",
       "      <td>1.705000e+03</td>\n",
       "      <td>1.543000e+03</td>\n",
       "      <td>1.160000e+02</td>\n",
       "      <td>1.160000e+02</td>\n",
       "      <td>9.000000e+01</td>\n",
       "      <td>2.400000e+01</td>\n",
       "      <td>2.400000e+01</td>\n",
       "      <td>6.060000e+02</td>\n",
       "      <td>6.000000e+00</td>\n",
       "      <td>1.400000e+01</td>\n",
       "    </tr>\n",
       "    <tr>\n",
       "      <th>75%</th>\n",
       "      <td>9.000000e+00</td>\n",
       "      <td>2.300000e+01</td>\n",
       "      <td>6.000000e+00</td>\n",
       "      <td>1.900000e+03</td>\n",
       "      <td>1.815000e+03</td>\n",
       "      <td>2.030000e+03</td>\n",
       "      <td>2.014000e+03</td>\n",
       "      <td>3.423000e+03</td>\n",
       "      <td>1.650000e+02</td>\n",
       "      <td>1.650000e+02</td>\n",
       "      <td>1.370000e+02</td>\n",
       "      <td>5.600000e+01</td>\n",
       "      <td>5.300000e+01</td>\n",
       "      <td>9.970000e+02</td>\n",
       "      <td>8.000000e+00</td>\n",
       "      <td>2.100000e+01</td>\n",
       "    </tr>\n",
       "    <tr>\n",
       "      <th>max</th>\n",
       "      <td>1.200000e+01</td>\n",
       "      <td>3.100000e+01</td>\n",
       "      <td>7.000000e+00</td>\n",
       "      <td>2.400000e+03</td>\n",
       "      <td>2.359000e+03</td>\n",
       "      <td>2.400000e+03</td>\n",
       "      <td>2.359000e+03</td>\n",
       "      <td>9.741000e+03</td>\n",
       "      <td>1.114000e+03</td>\n",
       "      <td>6.600000e+02</td>\n",
       "      <td>1.091000e+03</td>\n",
       "      <td>2.461000e+03</td>\n",
       "      <td>2.467000e+03</td>\n",
       "      <td>4.962000e+03</td>\n",
       "      <td>2.400000e+02</td>\n",
       "      <td>4.220000e+02</td>\n",
       "    </tr>\n",
       "  </tbody>\n",
       "</table>\n",
       "</div>"
      ],
      "text/plain": [
       "              Month    DayofMonth     DayOfWeek       DepTime    CRSDepTime  \\\n",
       "count  1.928371e+06  1.928371e+06  1.928371e+06  1.928371e+06  1.928371e+06   \n",
       "mean   6.107855e+00  1.575206e+01  3.984999e+00  1.518648e+03  1.467718e+03   \n",
       "std    3.480753e+00  8.776566e+00  1.996050e+00  4.504352e+02  4.247281e+02   \n",
       "min    1.000000e+00  1.000000e+00  1.000000e+00  1.000000e+00  0.000000e+00   \n",
       "25%    3.000000e+00  8.000000e+00  2.000000e+00  1.203000e+03  1.135000e+03   \n",
       "50%    6.000000e+00  1.600000e+01  4.000000e+00  1.545000e+03  1.510000e+03   \n",
       "75%    9.000000e+00  2.300000e+01  6.000000e+00  1.900000e+03  1.815000e+03   \n",
       "max    1.200000e+01  3.100000e+01  7.000000e+00  2.400000e+03  2.359000e+03   \n",
       "\n",
       "            ArrTime    CRSArrTime     FlightNum  ActualElapsedTime  \\\n",
       "count  1.928371e+06  1.928371e+06  1.928371e+06       1.928371e+06   \n",
       "mean   1.610242e+03  1.634196e+03  2.184296e+03       1.333059e+02   \n",
       "std    5.480009e+02  4.646284e+02  1.944450e+03       7.206007e+01   \n",
       "min    1.000000e+00  0.000000e+00  1.000000e+00       1.400000e+01   \n",
       "25%    1.316000e+03  1.325000e+03  6.110000e+02       8.000000e+01   \n",
       "50%    1.715000e+03  1.705000e+03  1.543000e+03       1.160000e+02   \n",
       "75%    2.030000e+03  2.014000e+03  3.423000e+03       1.650000e+02   \n",
       "max    2.400000e+03  2.359000e+03  9.741000e+03       1.114000e+03   \n",
       "\n",
       "       CRSElapsedTime       AirTime      ArrDelay      DepDelay      Distance  \\\n",
       "count    1.928371e+06  1.928371e+06  1.928371e+06  1.928371e+06  1.928371e+06   \n",
       "mean     1.341977e+02  1.082771e+02  4.219988e+01  4.309169e+01  7.649486e+02   \n",
       "std      7.123339e+01  6.864261e+01  5.678472e+01  5.326600e+01  5.738858e+02   \n",
       "min     -2.100000e+01  0.000000e+00 -1.090000e+02  6.000000e+00  1.100000e+01   \n",
       "25%      8.200000e+01  5.800000e+01  9.000000e+00  1.200000e+01  3.380000e+02   \n",
       "50%      1.160000e+02  9.000000e+01  2.400000e+01  2.400000e+01  6.060000e+02   \n",
       "75%      1.650000e+02  1.370000e+02  5.600000e+01  5.300000e+01  9.970000e+02   \n",
       "max      6.600000e+02  1.091000e+03  2.461000e+03  2.467000e+03  4.962000e+03   \n",
       "\n",
       "             TaxiIn       TaxiOut  \n",
       "count  1.928371e+06  1.928371e+06  \n",
       "mean   6.811388e+00  1.821733e+01  \n",
       "std    5.268051e+00  1.430838e+01  \n",
       "min    0.000000e+00  0.000000e+00  \n",
       "25%    4.000000e+00  1.000000e+01  \n",
       "50%    6.000000e+00  1.400000e+01  \n",
       "75%    8.000000e+00  2.100000e+01  \n",
       "max    2.400000e+02  4.220000e+02  "
      ]
     },
     "execution_count": 24,
     "metadata": {},
     "output_type": "execute_result"
    }
   ],
   "source": [
    "X.describe()"
   ]
  },
  {
   "cell_type": "code",
   "execution_count": 25,
   "id": "071a5566",
   "metadata": {
    "collapsed": true
   },
   "outputs": [
    {
     "data": {
      "text/html": [
       "<div>\n",
       "<style scoped>\n",
       "    .dataframe tbody tr th:only-of-type {\n",
       "        vertical-align: middle;\n",
       "    }\n",
       "\n",
       "    .dataframe tbody tr th {\n",
       "        vertical-align: top;\n",
       "    }\n",
       "\n",
       "    .dataframe thead th {\n",
       "        text-align: right;\n",
       "    }\n",
       "</style>\n",
       "<table border=\"1\" class=\"dataframe\">\n",
       "  <thead>\n",
       "    <tr style=\"text-align: right;\">\n",
       "      <th></th>\n",
       "      <th>Month</th>\n",
       "      <th>DayofMonth</th>\n",
       "      <th>DayOfWeek</th>\n",
       "      <th>DepTime</th>\n",
       "      <th>CRSDepTime</th>\n",
       "      <th>ArrTime</th>\n",
       "      <th>CRSArrTime</th>\n",
       "      <th>FlightNum</th>\n",
       "      <th>ActualElapsedTime</th>\n",
       "      <th>CRSElapsedTime</th>\n",
       "      <th>AirTime</th>\n",
       "      <th>ArrDelay</th>\n",
       "      <th>DepDelay</th>\n",
       "      <th>Distance</th>\n",
       "      <th>TaxiIn</th>\n",
       "      <th>TaxiOut</th>\n",
       "    </tr>\n",
       "  </thead>\n",
       "  <tbody>\n",
       "    <tr>\n",
       "      <th>count</th>\n",
       "      <td>636363.000000</td>\n",
       "      <td>636363.000000</td>\n",
       "      <td>636363.000000</td>\n",
       "      <td>636363.000000</td>\n",
       "      <td>636363.000000</td>\n",
       "      <td>636363.000000</td>\n",
       "      <td>636363.000000</td>\n",
       "      <td>636363.000000</td>\n",
       "      <td>636363.00000</td>\n",
       "      <td>636363.000000</td>\n",
       "      <td>636363.000000</td>\n",
       "      <td>636363.000000</td>\n",
       "      <td>636363.000000</td>\n",
       "      <td>636363.000000</td>\n",
       "      <td>636363.000000</td>\n",
       "      <td>636363.000000</td>\n",
       "    </tr>\n",
       "    <tr>\n",
       "      <th>mean</th>\n",
       "      <td>6.102539</td>\n",
       "      <td>15.758026</td>\n",
       "      <td>3.981668</td>\n",
       "      <td>1519.360645</td>\n",
       "      <td>1468.134961</td>\n",
       "      <td>1610.672505</td>\n",
       "      <td>1634.692163</td>\n",
       "      <td>2182.862574</td>\n",
       "      <td>133.34736</td>\n",
       "      <td>134.246964</td>\n",
       "      <td>108.306666</td>\n",
       "      <td>42.264585</td>\n",
       "      <td>43.164185</td>\n",
       "      <td>765.322732</td>\n",
       "      <td>6.811001</td>\n",
       "      <td>18.229693</td>\n",
       "    </tr>\n",
       "    <tr>\n",
       "      <th>std</th>\n",
       "      <td>3.477453</td>\n",
       "      <td>8.776456</td>\n",
       "      <td>1.997498</td>\n",
       "      <td>450.218653</td>\n",
       "      <td>424.507062</td>\n",
       "      <td>548.392538</td>\n",
       "      <td>464.613783</td>\n",
       "      <td>1944.694002</td>\n",
       "      <td>72.05096</td>\n",
       "      <td>71.255998</td>\n",
       "      <td>68.632221</td>\n",
       "      <td>56.998879</td>\n",
       "      <td>53.496259</td>\n",
       "      <td>574.050152</td>\n",
       "      <td>5.284719</td>\n",
       "      <td>14.279954</td>\n",
       "    </tr>\n",
       "    <tr>\n",
       "      <th>min</th>\n",
       "      <td>1.000000</td>\n",
       "      <td>1.000000</td>\n",
       "      <td>1.000000</td>\n",
       "      <td>1.000000</td>\n",
       "      <td>0.000000</td>\n",
       "      <td>1.000000</td>\n",
       "      <td>0.000000</td>\n",
       "      <td>1.000000</td>\n",
       "      <td>15.00000</td>\n",
       "      <td>15.000000</td>\n",
       "      <td>0.000000</td>\n",
       "      <td>-63.000000</td>\n",
       "      <td>6.000000</td>\n",
       "      <td>24.000000</td>\n",
       "      <td>0.000000</td>\n",
       "      <td>0.000000</td>\n",
       "    </tr>\n",
       "    <tr>\n",
       "      <th>25%</th>\n",
       "      <td>3.000000</td>\n",
       "      <td>8.000000</td>\n",
       "      <td>2.000000</td>\n",
       "      <td>1204.000000</td>\n",
       "      <td>1135.000000</td>\n",
       "      <td>1317.000000</td>\n",
       "      <td>1325.000000</td>\n",
       "      <td>610.000000</td>\n",
       "      <td>80.00000</td>\n",
       "      <td>82.000000</td>\n",
       "      <td>58.000000</td>\n",
       "      <td>9.000000</td>\n",
       "      <td>12.000000</td>\n",
       "      <td>338.000000</td>\n",
       "      <td>4.000000</td>\n",
       "      <td>10.000000</td>\n",
       "    </tr>\n",
       "    <tr>\n",
       "      <th>50%</th>\n",
       "      <td>6.000000</td>\n",
       "      <td>16.000000</td>\n",
       "      <td>4.000000</td>\n",
       "      <td>1546.000000</td>\n",
       "      <td>1510.000000</td>\n",
       "      <td>1716.000000</td>\n",
       "      <td>1707.000000</td>\n",
       "      <td>1541.000000</td>\n",
       "      <td>116.00000</td>\n",
       "      <td>116.000000</td>\n",
       "      <td>90.000000</td>\n",
       "      <td>24.000000</td>\n",
       "      <td>24.000000</td>\n",
       "      <td>606.000000</td>\n",
       "      <td>6.000000</td>\n",
       "      <td>14.000000</td>\n",
       "    </tr>\n",
       "    <tr>\n",
       "      <th>75%</th>\n",
       "      <td>9.000000</td>\n",
       "      <td>23.000000</td>\n",
       "      <td>6.000000</td>\n",
       "      <td>1900.000000</td>\n",
       "      <td>1815.000000</td>\n",
       "      <td>2030.000000</td>\n",
       "      <td>2015.000000</td>\n",
       "      <td>3421.000000</td>\n",
       "      <td>165.00000</td>\n",
       "      <td>165.000000</td>\n",
       "      <td>137.000000</td>\n",
       "      <td>56.000000</td>\n",
       "      <td>53.000000</td>\n",
       "      <td>998.000000</td>\n",
       "      <td>8.000000</td>\n",
       "      <td>21.000000</td>\n",
       "    </tr>\n",
       "    <tr>\n",
       "      <th>max</th>\n",
       "      <td>12.000000</td>\n",
       "      <td>31.000000</td>\n",
       "      <td>7.000000</td>\n",
       "      <td>2400.000000</td>\n",
       "      <td>2359.000000</td>\n",
       "      <td>2400.000000</td>\n",
       "      <td>2359.000000</td>\n",
       "      <td>9741.000000</td>\n",
       "      <td>727.00000</td>\n",
       "      <td>660.000000</td>\n",
       "      <td>649.000000</td>\n",
       "      <td>2461.000000</td>\n",
       "      <td>2467.000000</td>\n",
       "      <td>4962.000000</td>\n",
       "      <td>207.000000</td>\n",
       "      <td>376.000000</td>\n",
       "    </tr>\n",
       "  </tbody>\n",
       "</table>\n",
       "</div>"
      ],
      "text/plain": [
       "               Month     DayofMonth      DayOfWeek        DepTime  \\\n",
       "count  636363.000000  636363.000000  636363.000000  636363.000000   \n",
       "mean        6.102539      15.758026       3.981668    1519.360645   \n",
       "std         3.477453       8.776456       1.997498     450.218653   \n",
       "min         1.000000       1.000000       1.000000       1.000000   \n",
       "25%         3.000000       8.000000       2.000000    1204.000000   \n",
       "50%         6.000000      16.000000       4.000000    1546.000000   \n",
       "75%         9.000000      23.000000       6.000000    1900.000000   \n",
       "max        12.000000      31.000000       7.000000    2400.000000   \n",
       "\n",
       "          CRSDepTime        ArrTime     CRSArrTime      FlightNum  \\\n",
       "count  636363.000000  636363.000000  636363.000000  636363.000000   \n",
       "mean     1468.134961    1610.672505    1634.692163    2182.862574   \n",
       "std       424.507062     548.392538     464.613783    1944.694002   \n",
       "min         0.000000       1.000000       0.000000       1.000000   \n",
       "25%      1135.000000    1317.000000    1325.000000     610.000000   \n",
       "50%      1510.000000    1716.000000    1707.000000    1541.000000   \n",
       "75%      1815.000000    2030.000000    2015.000000    3421.000000   \n",
       "max      2359.000000    2400.000000    2359.000000    9741.000000   \n",
       "\n",
       "       ActualElapsedTime  CRSElapsedTime        AirTime       ArrDelay  \\\n",
       "count       636363.00000   636363.000000  636363.000000  636363.000000   \n",
       "mean           133.34736      134.246964     108.306666      42.264585   \n",
       "std             72.05096       71.255998      68.632221      56.998879   \n",
       "min             15.00000       15.000000       0.000000     -63.000000   \n",
       "25%             80.00000       82.000000      58.000000       9.000000   \n",
       "50%            116.00000      116.000000      90.000000      24.000000   \n",
       "75%            165.00000      165.000000     137.000000      56.000000   \n",
       "max            727.00000      660.000000     649.000000    2461.000000   \n",
       "\n",
       "            DepDelay       Distance         TaxiIn        TaxiOut  \n",
       "count  636363.000000  636363.000000  636363.000000  636363.000000  \n",
       "mean       43.164185     765.322732       6.811001      18.229693  \n",
       "std        53.496259     574.050152       5.284719      14.279954  \n",
       "min         6.000000      24.000000       0.000000       0.000000  \n",
       "25%        12.000000     338.000000       4.000000      10.000000  \n",
       "50%        24.000000     606.000000       6.000000      14.000000  \n",
       "75%        53.000000     998.000000       8.000000      21.000000  \n",
       "max      2467.000000    4962.000000     207.000000     376.000000  "
      ]
     },
     "execution_count": 25,
     "metadata": {},
     "output_type": "execute_result"
    }
   ],
   "source": [
    "X_test.describe()"
   ]
  },
  {
   "cell_type": "code",
   "execution_count": 26,
   "id": "089c58a4",
   "metadata": {
    "collapsed": true
   },
   "outputs": [
    {
     "data": {
      "text/plain": [
       "count    1.928371e+06\n",
       "mean     8.545591e-01\n",
       "std      3.525449e-01\n",
       "min      0.000000e+00\n",
       "25%      1.000000e+00\n",
       "50%      1.000000e+00\n",
       "75%      1.000000e+00\n",
       "max      1.000000e+00\n",
       "Name: Delayed, dtype: float64"
      ]
     },
     "execution_count": 26,
     "metadata": {},
     "output_type": "execute_result"
    }
   ],
   "source": [
    "y.describe()"
   ]
  },
  {
   "cell_type": "code",
   "execution_count": 27,
   "id": "79c9d42b",
   "metadata": {
    "collapsed": true
   },
   "outputs": [
    {
     "data": {
      "text/plain": [
       "count    636363.000000\n",
       "mean          0.854448\n",
       "std           0.352657\n",
       "min           0.000000\n",
       "25%           1.000000\n",
       "50%           1.000000\n",
       "75%           1.000000\n",
       "max           1.000000\n",
       "Name: Delayed, dtype: float64"
      ]
     },
     "execution_count": 27,
     "metadata": {},
     "output_type": "execute_result"
    }
   ],
   "source": [
    "y_test.describe()"
   ]
  },
  {
   "cell_type": "markdown",
   "id": "b88f0c8a",
   "metadata": {},
   "source": [
    "Podem comprovar que els valors promitjos dels paràmetres són molt propers pel conjunt de training i pel de testatge."
   ]
  },
  {
   "cell_type": "markdown",
   "id": "8496cfc3",
   "metadata": {},
   "source": [
    "## Nivell 2"
   ]
  },
  {
   "cell_type": "markdown",
   "id": "7e66f58e",
   "metadata": {},
   "source": [
    "**- Exercici 2:**\n",
    "Aplica algun procés de transformació (estandarditzar les dades numèriques, crear columnes dummies, polinomis...)."
   ]
  },
  {
   "cell_type": "markdown",
   "id": "f116686a",
   "metadata": {},
   "source": [
    "A l'exercici 1 ja he fet algun canvi per generar la columna objectiu com a columna dummie. Procedeixo a **generar columnes dummie per les variables categòriques**:"
   ]
  },
  {
   "cell_type": "code",
   "execution_count": 28,
   "id": "d46db6e4",
   "metadata": {
    "collapsed": true
   },
   "outputs": [
    {
     "name": "stdout",
     "output_type": "stream",
     "text": [
      "<class 'pandas.core.frame.DataFrame'>\n",
      "Int64Index: 1928371 entries, 0 to 7009727\n",
      "Data columns (total 26 columns):\n",
      " #   Column             Dtype  \n",
      "---  ------             -----  \n",
      " 0   Month              int64  \n",
      " 1   DayofMonth         int64  \n",
      " 2   DayOfWeek          int64  \n",
      " 3   DepTime            float64\n",
      " 4   CRSDepTime         int64  \n",
      " 5   ArrTime            float64\n",
      " 6   CRSArrTime         int64  \n",
      " 7   UniqueCarrier      object \n",
      " 8   FlightNum          int64  \n",
      " 9   TailNum            object \n",
      " 10  ActualElapsedTime  float64\n",
      " 11  CRSElapsedTime     float64\n",
      " 12  AirTime            float64\n",
      " 13  ArrDelay           float64\n",
      " 14  DepDelay           float64\n",
      " 15  Origin             object \n",
      " 16  Dest               object \n",
      " 17  Distance           int64  \n",
      " 18  TaxiIn             float64\n",
      " 19  TaxiOut            float64\n",
      " 20  CarrierDelay       object \n",
      " 21  WeatherDelay       object \n",
      " 22  NASDelay           object \n",
      " 23  SecurityDelay      object \n",
      " 24  LateAircraftDelay  object \n",
      " 25  Delayed            uint8  \n",
      "dtypes: float64(9), int64(7), object(9), uint8(1)\n",
      "memory usage: 384.4+ MB\n"
     ]
    }
   ],
   "source": [
    "flights2008_df.info()"
   ]
  },
  {
   "cell_type": "code",
   "execution_count": 29,
   "id": "cc590d67",
   "metadata": {
    "collapsed": true
   },
   "outputs": [
    {
     "data": {
      "text/plain": [
       "303"
      ]
     },
     "execution_count": 29,
     "metadata": {},
     "output_type": "execute_result"
    }
   ],
   "source": [
    "flights2008_df.Origin.nunique()"
   ]
  },
  {
   "cell_type": "markdown",
   "id": "5f1f6d7a",
   "metadata": {},
   "source": [
    "Columne Dummie per dies de la setmana i del mes:"
   ]
  },
  {
   "cell_type": "code",
   "execution_count": 30,
   "id": "1a5ee111",
   "metadata": {
    "collapsed": true
   },
   "outputs": [],
   "source": [
    "DayOfWeek_dum= pd.get_dummies(flights2008_df.DayOfWeek)\n",
    "DayOfWeek_dum.columns=['Mon','Twe','Wed','Thu','Fri','Sat','Sun']\n",
    "\n",
    "Month_dum= pd.get_dummies(flights2008_df.Month)\n",
    "Month_dum.columns=['Jan','Feb','Mar','Apr','May','Jun','Jul','Aug','Sep','Oct', 'Nov', 'Dec']"
   ]
  },
  {
   "cell_type": "markdown",
   "id": "579b2c94",
   "metadata": {},
   "source": [
    "Columnes Dummie per origen i destinació:"
   ]
  },
  {
   "cell_type": "code",
   "execution_count": 31,
   "id": "a9aeef22",
   "metadata": {
    "collapsed": true
   },
   "outputs": [
    {
     "data": {
      "text/html": [
       "<div>\n",
       "<style scoped>\n",
       "    .dataframe tbody tr th:only-of-type {\n",
       "        vertical-align: middle;\n",
       "    }\n",
       "\n",
       "    .dataframe tbody tr th {\n",
       "        vertical-align: top;\n",
       "    }\n",
       "\n",
       "    .dataframe thead th {\n",
       "        text-align: right;\n",
       "    }\n",
       "</style>\n",
       "<table border=\"1\" class=\"dataframe\">\n",
       "  <thead>\n",
       "    <tr style=\"text-align: right;\">\n",
       "      <th></th>\n",
       "      <th>ABE</th>\n",
       "      <th>ABI</th>\n",
       "      <th>ABQ</th>\n",
       "      <th>ABY</th>\n",
       "      <th>ACK</th>\n",
       "      <th>ACT</th>\n",
       "      <th>ACV</th>\n",
       "      <th>ACY</th>\n",
       "      <th>ADK</th>\n",
       "      <th>ADQ</th>\n",
       "      <th>...</th>\n",
       "      <th>TYR</th>\n",
       "      <th>TYS</th>\n",
       "      <th>VLD</th>\n",
       "      <th>VPS</th>\n",
       "      <th>WRG</th>\n",
       "      <th>WYS</th>\n",
       "      <th>XNA</th>\n",
       "      <th>YAK</th>\n",
       "      <th>YKM</th>\n",
       "      <th>YUM</th>\n",
       "    </tr>\n",
       "  </thead>\n",
       "  <tbody>\n",
       "    <tr>\n",
       "      <th>0</th>\n",
       "      <td>0</td>\n",
       "      <td>0</td>\n",
       "      <td>0</td>\n",
       "      <td>0</td>\n",
       "      <td>0</td>\n",
       "      <td>0</td>\n",
       "      <td>0</td>\n",
       "      <td>0</td>\n",
       "      <td>0</td>\n",
       "      <td>0</td>\n",
       "      <td>...</td>\n",
       "      <td>0</td>\n",
       "      <td>0</td>\n",
       "      <td>0</td>\n",
       "      <td>0</td>\n",
       "      <td>0</td>\n",
       "      <td>0</td>\n",
       "      <td>0</td>\n",
       "      <td>0</td>\n",
       "      <td>0</td>\n",
       "      <td>0</td>\n",
       "    </tr>\n",
       "    <tr>\n",
       "      <th>1</th>\n",
       "      <td>0</td>\n",
       "      <td>0</td>\n",
       "      <td>0</td>\n",
       "      <td>0</td>\n",
       "      <td>0</td>\n",
       "      <td>0</td>\n",
       "      <td>0</td>\n",
       "      <td>0</td>\n",
       "      <td>0</td>\n",
       "      <td>0</td>\n",
       "      <td>...</td>\n",
       "      <td>0</td>\n",
       "      <td>0</td>\n",
       "      <td>0</td>\n",
       "      <td>0</td>\n",
       "      <td>0</td>\n",
       "      <td>0</td>\n",
       "      <td>0</td>\n",
       "      <td>0</td>\n",
       "      <td>0</td>\n",
       "      <td>0</td>\n",
       "    </tr>\n",
       "    <tr>\n",
       "      <th>2</th>\n",
       "      <td>0</td>\n",
       "      <td>0</td>\n",
       "      <td>0</td>\n",
       "      <td>0</td>\n",
       "      <td>0</td>\n",
       "      <td>0</td>\n",
       "      <td>0</td>\n",
       "      <td>0</td>\n",
       "      <td>0</td>\n",
       "      <td>0</td>\n",
       "      <td>...</td>\n",
       "      <td>0</td>\n",
       "      <td>0</td>\n",
       "      <td>0</td>\n",
       "      <td>0</td>\n",
       "      <td>0</td>\n",
       "      <td>0</td>\n",
       "      <td>0</td>\n",
       "      <td>0</td>\n",
       "      <td>0</td>\n",
       "      <td>0</td>\n",
       "    </tr>\n",
       "    <tr>\n",
       "      <th>4</th>\n",
       "      <td>0</td>\n",
       "      <td>0</td>\n",
       "      <td>0</td>\n",
       "      <td>0</td>\n",
       "      <td>0</td>\n",
       "      <td>0</td>\n",
       "      <td>0</td>\n",
       "      <td>0</td>\n",
       "      <td>0</td>\n",
       "      <td>0</td>\n",
       "      <td>...</td>\n",
       "      <td>0</td>\n",
       "      <td>0</td>\n",
       "      <td>0</td>\n",
       "      <td>0</td>\n",
       "      <td>0</td>\n",
       "      <td>0</td>\n",
       "      <td>0</td>\n",
       "      <td>0</td>\n",
       "      <td>0</td>\n",
       "      <td>0</td>\n",
       "    </tr>\n",
       "    <tr>\n",
       "      <th>5</th>\n",
       "      <td>0</td>\n",
       "      <td>0</td>\n",
       "      <td>0</td>\n",
       "      <td>0</td>\n",
       "      <td>0</td>\n",
       "      <td>0</td>\n",
       "      <td>0</td>\n",
       "      <td>0</td>\n",
       "      <td>0</td>\n",
       "      <td>0</td>\n",
       "      <td>...</td>\n",
       "      <td>0</td>\n",
       "      <td>0</td>\n",
       "      <td>0</td>\n",
       "      <td>0</td>\n",
       "      <td>0</td>\n",
       "      <td>0</td>\n",
       "      <td>0</td>\n",
       "      <td>0</td>\n",
       "      <td>0</td>\n",
       "      <td>0</td>\n",
       "    </tr>\n",
       "  </tbody>\n",
       "</table>\n",
       "<p>5 rows × 303 columns</p>\n",
       "</div>"
      ],
      "text/plain": [
       "   ABE  ABI  ABQ  ABY  ACK  ACT  ACV  ACY  ADK  ADQ  ...  TYR  TYS  VLD  VPS  \\\n",
       "0    0    0    0    0    0    0    0    0    0    0  ...    0    0    0    0   \n",
       "1    0    0    0    0    0    0    0    0    0    0  ...    0    0    0    0   \n",
       "2    0    0    0    0    0    0    0    0    0    0  ...    0    0    0    0   \n",
       "4    0    0    0    0    0    0    0    0    0    0  ...    0    0    0    0   \n",
       "5    0    0    0    0    0    0    0    0    0    0  ...    0    0    0    0   \n",
       "\n",
       "   WRG  WYS  XNA  YAK  YKM  YUM  \n",
       "0    0    0    0    0    0    0  \n",
       "1    0    0    0    0    0    0  \n",
       "2    0    0    0    0    0    0  \n",
       "4    0    0    0    0    0    0  \n",
       "5    0    0    0    0    0    0  \n",
       "\n",
       "[5 rows x 303 columns]"
      ]
     },
     "execution_count": 31,
     "metadata": {},
     "output_type": "execute_result"
    }
   ],
   "source": [
    "Origin_dum= pd.get_dummies(flights2008_df.Origin)\n",
    "Origin_dum.head()"
   ]
  },
  {
   "cell_type": "code",
   "execution_count": 32,
   "id": "d78257a1",
   "metadata": {
    "collapsed": true
   },
   "outputs": [
    {
     "data": {
      "text/html": [
       "<div>\n",
       "<style scoped>\n",
       "    .dataframe tbody tr th:only-of-type {\n",
       "        vertical-align: middle;\n",
       "    }\n",
       "\n",
       "    .dataframe tbody tr th {\n",
       "        vertical-align: top;\n",
       "    }\n",
       "\n",
       "    .dataframe thead th {\n",
       "        text-align: right;\n",
       "    }\n",
       "</style>\n",
       "<table border=\"1\" class=\"dataframe\">\n",
       "  <thead>\n",
       "    <tr style=\"text-align: right;\">\n",
       "      <th></th>\n",
       "      <th>ABE</th>\n",
       "      <th>ABI</th>\n",
       "      <th>ABQ</th>\n",
       "      <th>ABY</th>\n",
       "      <th>ACK</th>\n",
       "      <th>ACT</th>\n",
       "      <th>ACV</th>\n",
       "      <th>ACY</th>\n",
       "      <th>ADK</th>\n",
       "      <th>ADQ</th>\n",
       "      <th>...</th>\n",
       "      <th>TYR</th>\n",
       "      <th>TYS</th>\n",
       "      <th>VLD</th>\n",
       "      <th>VPS</th>\n",
       "      <th>WRG</th>\n",
       "      <th>WYS</th>\n",
       "      <th>XNA</th>\n",
       "      <th>YAK</th>\n",
       "      <th>YKM</th>\n",
       "      <th>YUM</th>\n",
       "    </tr>\n",
       "  </thead>\n",
       "  <tbody>\n",
       "    <tr>\n",
       "      <th>0</th>\n",
       "      <td>0</td>\n",
       "      <td>0</td>\n",
       "      <td>0</td>\n",
       "      <td>0</td>\n",
       "      <td>0</td>\n",
       "      <td>0</td>\n",
       "      <td>0</td>\n",
       "      <td>0</td>\n",
       "      <td>0</td>\n",
       "      <td>0</td>\n",
       "      <td>...</td>\n",
       "      <td>0</td>\n",
       "      <td>0</td>\n",
       "      <td>0</td>\n",
       "      <td>0</td>\n",
       "      <td>0</td>\n",
       "      <td>0</td>\n",
       "      <td>0</td>\n",
       "      <td>0</td>\n",
       "      <td>0</td>\n",
       "      <td>0</td>\n",
       "    </tr>\n",
       "    <tr>\n",
       "      <th>1</th>\n",
       "      <td>0</td>\n",
       "      <td>0</td>\n",
       "      <td>0</td>\n",
       "      <td>0</td>\n",
       "      <td>0</td>\n",
       "      <td>0</td>\n",
       "      <td>0</td>\n",
       "      <td>0</td>\n",
       "      <td>0</td>\n",
       "      <td>0</td>\n",
       "      <td>...</td>\n",
       "      <td>0</td>\n",
       "      <td>0</td>\n",
       "      <td>0</td>\n",
       "      <td>0</td>\n",
       "      <td>0</td>\n",
       "      <td>0</td>\n",
       "      <td>0</td>\n",
       "      <td>0</td>\n",
       "      <td>0</td>\n",
       "      <td>0</td>\n",
       "    </tr>\n",
       "    <tr>\n",
       "      <th>2</th>\n",
       "      <td>0</td>\n",
       "      <td>0</td>\n",
       "      <td>0</td>\n",
       "      <td>0</td>\n",
       "      <td>0</td>\n",
       "      <td>0</td>\n",
       "      <td>0</td>\n",
       "      <td>0</td>\n",
       "      <td>0</td>\n",
       "      <td>0</td>\n",
       "      <td>...</td>\n",
       "      <td>0</td>\n",
       "      <td>0</td>\n",
       "      <td>0</td>\n",
       "      <td>0</td>\n",
       "      <td>0</td>\n",
       "      <td>0</td>\n",
       "      <td>0</td>\n",
       "      <td>0</td>\n",
       "      <td>0</td>\n",
       "      <td>0</td>\n",
       "    </tr>\n",
       "    <tr>\n",
       "      <th>4</th>\n",
       "      <td>0</td>\n",
       "      <td>0</td>\n",
       "      <td>0</td>\n",
       "      <td>0</td>\n",
       "      <td>0</td>\n",
       "      <td>0</td>\n",
       "      <td>0</td>\n",
       "      <td>0</td>\n",
       "      <td>0</td>\n",
       "      <td>0</td>\n",
       "      <td>...</td>\n",
       "      <td>0</td>\n",
       "      <td>0</td>\n",
       "      <td>0</td>\n",
       "      <td>0</td>\n",
       "      <td>0</td>\n",
       "      <td>0</td>\n",
       "      <td>0</td>\n",
       "      <td>0</td>\n",
       "      <td>0</td>\n",
       "      <td>0</td>\n",
       "    </tr>\n",
       "    <tr>\n",
       "      <th>5</th>\n",
       "      <td>0</td>\n",
       "      <td>0</td>\n",
       "      <td>0</td>\n",
       "      <td>0</td>\n",
       "      <td>0</td>\n",
       "      <td>0</td>\n",
       "      <td>0</td>\n",
       "      <td>0</td>\n",
       "      <td>0</td>\n",
       "      <td>0</td>\n",
       "      <td>...</td>\n",
       "      <td>0</td>\n",
       "      <td>0</td>\n",
       "      <td>0</td>\n",
       "      <td>0</td>\n",
       "      <td>0</td>\n",
       "      <td>0</td>\n",
       "      <td>0</td>\n",
       "      <td>0</td>\n",
       "      <td>0</td>\n",
       "      <td>0</td>\n",
       "    </tr>\n",
       "  </tbody>\n",
       "</table>\n",
       "<p>5 rows × 302 columns</p>\n",
       "</div>"
      ],
      "text/plain": [
       "   ABE  ABI  ABQ  ABY  ACK  ACT  ACV  ACY  ADK  ADQ  ...  TYR  TYS  VLD  VPS  \\\n",
       "0    0    0    0    0    0    0    0    0    0    0  ...    0    0    0    0   \n",
       "1    0    0    0    0    0    0    0    0    0    0  ...    0    0    0    0   \n",
       "2    0    0    0    0    0    0    0    0    0    0  ...    0    0    0    0   \n",
       "4    0    0    0    0    0    0    0    0    0    0  ...    0    0    0    0   \n",
       "5    0    0    0    0    0    0    0    0    0    0  ...    0    0    0    0   \n",
       "\n",
       "   WRG  WYS  XNA  YAK  YKM  YUM  \n",
       "0    0    0    0    0    0    0  \n",
       "1    0    0    0    0    0    0  \n",
       "2    0    0    0    0    0    0  \n",
       "4    0    0    0    0    0    0  \n",
       "5    0    0    0    0    0    0  \n",
       "\n",
       "[5 rows x 302 columns]"
      ]
     },
     "execution_count": 32,
     "metadata": {},
     "output_type": "execute_result"
    }
   ],
   "source": [
    "Dest_dum= pd.get_dummies(flights2008_df.Dest)\n",
    "Dest_dum.head()\n"
   ]
  },
  {
   "cell_type": "code",
   "execution_count": 33,
   "id": "59642d8c",
   "metadata": {
    "collapsed": true
   },
   "outputs": [
    {
     "data": {
      "text/html": [
       "<div>\n",
       "<style scoped>\n",
       "    .dataframe tbody tr th:only-of-type {\n",
       "        vertical-align: middle;\n",
       "    }\n",
       "\n",
       "    .dataframe tbody tr th {\n",
       "        vertical-align: top;\n",
       "    }\n",
       "\n",
       "    .dataframe thead th {\n",
       "        text-align: right;\n",
       "    }\n",
       "</style>\n",
       "<table border=\"1\" class=\"dataframe\">\n",
       "  <thead>\n",
       "    <tr style=\"text-align: right;\">\n",
       "      <th></th>\n",
       "      <th>9E</th>\n",
       "      <th>AA</th>\n",
       "      <th>AQ</th>\n",
       "      <th>AS</th>\n",
       "      <th>B6</th>\n",
       "      <th>CO</th>\n",
       "      <th>DL</th>\n",
       "      <th>EV</th>\n",
       "      <th>F9</th>\n",
       "      <th>FL</th>\n",
       "      <th>HA</th>\n",
       "      <th>MQ</th>\n",
       "      <th>NW</th>\n",
       "      <th>OH</th>\n",
       "      <th>OO</th>\n",
       "      <th>UA</th>\n",
       "      <th>US</th>\n",
       "      <th>WN</th>\n",
       "      <th>XE</th>\n",
       "      <th>YV</th>\n",
       "    </tr>\n",
       "  </thead>\n",
       "  <tbody>\n",
       "    <tr>\n",
       "      <th>0</th>\n",
       "      <td>0</td>\n",
       "      <td>0</td>\n",
       "      <td>0</td>\n",
       "      <td>0</td>\n",
       "      <td>0</td>\n",
       "      <td>0</td>\n",
       "      <td>0</td>\n",
       "      <td>0</td>\n",
       "      <td>0</td>\n",
       "      <td>0</td>\n",
       "      <td>0</td>\n",
       "      <td>0</td>\n",
       "      <td>0</td>\n",
       "      <td>0</td>\n",
       "      <td>0</td>\n",
       "      <td>0</td>\n",
       "      <td>0</td>\n",
       "      <td>1</td>\n",
       "      <td>0</td>\n",
       "      <td>0</td>\n",
       "    </tr>\n",
       "    <tr>\n",
       "      <th>1</th>\n",
       "      <td>0</td>\n",
       "      <td>0</td>\n",
       "      <td>0</td>\n",
       "      <td>0</td>\n",
       "      <td>0</td>\n",
       "      <td>0</td>\n",
       "      <td>0</td>\n",
       "      <td>0</td>\n",
       "      <td>0</td>\n",
       "      <td>0</td>\n",
       "      <td>0</td>\n",
       "      <td>0</td>\n",
       "      <td>0</td>\n",
       "      <td>0</td>\n",
       "      <td>0</td>\n",
       "      <td>0</td>\n",
       "      <td>0</td>\n",
       "      <td>1</td>\n",
       "      <td>0</td>\n",
       "      <td>0</td>\n",
       "    </tr>\n",
       "    <tr>\n",
       "      <th>2</th>\n",
       "      <td>0</td>\n",
       "      <td>0</td>\n",
       "      <td>0</td>\n",
       "      <td>0</td>\n",
       "      <td>0</td>\n",
       "      <td>0</td>\n",
       "      <td>0</td>\n",
       "      <td>0</td>\n",
       "      <td>0</td>\n",
       "      <td>0</td>\n",
       "      <td>0</td>\n",
       "      <td>0</td>\n",
       "      <td>0</td>\n",
       "      <td>0</td>\n",
       "      <td>0</td>\n",
       "      <td>0</td>\n",
       "      <td>0</td>\n",
       "      <td>1</td>\n",
       "      <td>0</td>\n",
       "      <td>0</td>\n",
       "    </tr>\n",
       "    <tr>\n",
       "      <th>4</th>\n",
       "      <td>0</td>\n",
       "      <td>0</td>\n",
       "      <td>0</td>\n",
       "      <td>0</td>\n",
       "      <td>0</td>\n",
       "      <td>0</td>\n",
       "      <td>0</td>\n",
       "      <td>0</td>\n",
       "      <td>0</td>\n",
       "      <td>0</td>\n",
       "      <td>0</td>\n",
       "      <td>0</td>\n",
       "      <td>0</td>\n",
       "      <td>0</td>\n",
       "      <td>0</td>\n",
       "      <td>0</td>\n",
       "      <td>0</td>\n",
       "      <td>1</td>\n",
       "      <td>0</td>\n",
       "      <td>0</td>\n",
       "    </tr>\n",
       "    <tr>\n",
       "      <th>5</th>\n",
       "      <td>0</td>\n",
       "      <td>0</td>\n",
       "      <td>0</td>\n",
       "      <td>0</td>\n",
       "      <td>0</td>\n",
       "      <td>0</td>\n",
       "      <td>0</td>\n",
       "      <td>0</td>\n",
       "      <td>0</td>\n",
       "      <td>0</td>\n",
       "      <td>0</td>\n",
       "      <td>0</td>\n",
       "      <td>0</td>\n",
       "      <td>0</td>\n",
       "      <td>0</td>\n",
       "      <td>0</td>\n",
       "      <td>0</td>\n",
       "      <td>1</td>\n",
       "      <td>0</td>\n",
       "      <td>0</td>\n",
       "    </tr>\n",
       "  </tbody>\n",
       "</table>\n",
       "</div>"
      ],
      "text/plain": [
       "   9E  AA  AQ  AS  B6  CO  DL  EV  F9  FL  HA  MQ  NW  OH  OO  UA  US  WN  XE  \\\n",
       "0   0   0   0   0   0   0   0   0   0   0   0   0   0   0   0   0   0   1   0   \n",
       "1   0   0   0   0   0   0   0   0   0   0   0   0   0   0   0   0   0   1   0   \n",
       "2   0   0   0   0   0   0   0   0   0   0   0   0   0   0   0   0   0   1   0   \n",
       "4   0   0   0   0   0   0   0   0   0   0   0   0   0   0   0   0   0   1   0   \n",
       "5   0   0   0   0   0   0   0   0   0   0   0   0   0   0   0   0   0   1   0   \n",
       "\n",
       "   YV  \n",
       "0   0  \n",
       "1   0  \n",
       "2   0  \n",
       "4   0  \n",
       "5   0  "
      ]
     },
     "execution_count": 33,
     "metadata": {},
     "output_type": "execute_result"
    }
   ],
   "source": [
    "UniqueCarrier_dum= pd.get_dummies(flights2008_df.UniqueCarrier)\n",
    "UniqueCarrier_dum.head()"
   ]
  },
  {
   "cell_type": "code",
   "execution_count": 34,
   "id": "25acd009",
   "metadata": {
    "collapsed": true
   },
   "outputs": [
    {
     "data": {
      "text/plain": [
       "0          0\n",
       "1          0\n",
       "2          0\n",
       "4          0\n",
       "5          0\n",
       "          ..\n",
       "7009710    0\n",
       "7009717    0\n",
       "7009718    0\n",
       "7009726    0\n",
       "7009727    0\n",
       "Name: Mon, Length: 1928371, dtype: uint8"
      ]
     },
     "execution_count": 34,
     "metadata": {},
     "output_type": "execute_result"
    }
   ],
   "source": [
    "DayOfWeek_dum.Mon"
   ]
  },
  {
   "cell_type": "markdown",
   "id": "1269d6df",
   "metadata": {},
   "source": [
    "Genero la columna de velocitat mitja de cada vol:\n",
    "    "
   ]
  },
  {
   "cell_type": "code",
   "execution_count": 35,
   "id": "847cfe11",
   "metadata": {
    "collapsed": true
   },
   "outputs": [
    {
     "name": "stdout",
     "output_type": "stream",
     "text": [
      "<class 'pandas.core.frame.DataFrame'>\n",
      "Int64Index: 1928371 entries, 0 to 7009727\n",
      "Data columns (total 27 columns):\n",
      " #   Column             Dtype  \n",
      "---  ------             -----  \n",
      " 0   Month              int64  \n",
      " 1   DayofMonth         int64  \n",
      " 2   DayOfWeek          int64  \n",
      " 3   DepTime            float64\n",
      " 4   CRSDepTime         int64  \n",
      " 5   ArrTime            float64\n",
      " 6   CRSArrTime         int64  \n",
      " 7   UniqueCarrier      object \n",
      " 8   FlightNum          int64  \n",
      " 9   TailNum            object \n",
      " 10  ActualElapsedTime  float64\n",
      " 11  CRSElapsedTime     float64\n",
      " 12  AirTime            float64\n",
      " 13  ArrDelay           float64\n",
      " 14  DepDelay           float64\n",
      " 15  Origin             object \n",
      " 16  Dest               object \n",
      " 17  Distance           int64  \n",
      " 18  TaxiIn             float64\n",
      " 19  TaxiOut            float64\n",
      " 20  CarrierDelay       object \n",
      " 21  WeatherDelay       object \n",
      " 22  NASDelay           object \n",
      " 23  SecurityDelay      object \n",
      " 24  LateAircraftDelay  object \n",
      " 25  Delayed            uint8  \n",
      " 26  AverageSpeed       float64\n",
      "dtypes: float64(10), int64(7), object(9), uint8(1)\n",
      "memory usage: 399.1+ MB\n"
     ]
    }
   ],
   "source": [
    "flights2008_df['AverageSpeed']=flights2008_df['Distance']/(flights2008_df['AirTime']/60)#Dividim entre 60 perquè són minuts i volem per hora\n",
    "flights2008_df.info()"
   ]
  },
  {
   "cell_type": "code",
   "execution_count": 36,
   "id": "e5371bcf",
   "metadata": {
    "collapsed": true
   },
   "outputs": [
    {
     "data": {
      "text/html": [
       "<div>\n",
       "<style scoped>\n",
       "    .dataframe tbody tr th:only-of-type {\n",
       "        vertical-align: middle;\n",
       "    }\n",
       "\n",
       "    .dataframe tbody tr th {\n",
       "        vertical-align: top;\n",
       "    }\n",
       "\n",
       "    .dataframe thead th {\n",
       "        text-align: right;\n",
       "    }\n",
       "</style>\n",
       "<table border=\"1\" class=\"dataframe\">\n",
       "  <thead>\n",
       "    <tr style=\"text-align: right;\">\n",
       "      <th></th>\n",
       "      <th>1</th>\n",
       "      <th>2</th>\n",
       "      <th>3</th>\n",
       "      <th>4</th>\n",
       "      <th>5</th>\n",
       "      <th>6</th>\n",
       "      <th>7</th>\n",
       "      <th>8</th>\n",
       "      <th>9</th>\n",
       "      <th>10</th>\n",
       "      <th>...</th>\n",
       "      <th>22</th>\n",
       "      <th>23</th>\n",
       "      <th>24</th>\n",
       "      <th>25</th>\n",
       "      <th>26</th>\n",
       "      <th>27</th>\n",
       "      <th>28</th>\n",
       "      <th>29</th>\n",
       "      <th>30</th>\n",
       "      <th>31</th>\n",
       "    </tr>\n",
       "  </thead>\n",
       "  <tbody>\n",
       "    <tr>\n",
       "      <th>0</th>\n",
       "      <td>0</td>\n",
       "      <td>0</td>\n",
       "      <td>1</td>\n",
       "      <td>0</td>\n",
       "      <td>0</td>\n",
       "      <td>0</td>\n",
       "      <td>0</td>\n",
       "      <td>0</td>\n",
       "      <td>0</td>\n",
       "      <td>0</td>\n",
       "      <td>...</td>\n",
       "      <td>0</td>\n",
       "      <td>0</td>\n",
       "      <td>0</td>\n",
       "      <td>0</td>\n",
       "      <td>0</td>\n",
       "      <td>0</td>\n",
       "      <td>0</td>\n",
       "      <td>0</td>\n",
       "      <td>0</td>\n",
       "      <td>0</td>\n",
       "    </tr>\n",
       "    <tr>\n",
       "      <th>1</th>\n",
       "      <td>0</td>\n",
       "      <td>0</td>\n",
       "      <td>1</td>\n",
       "      <td>0</td>\n",
       "      <td>0</td>\n",
       "      <td>0</td>\n",
       "      <td>0</td>\n",
       "      <td>0</td>\n",
       "      <td>0</td>\n",
       "      <td>0</td>\n",
       "      <td>...</td>\n",
       "      <td>0</td>\n",
       "      <td>0</td>\n",
       "      <td>0</td>\n",
       "      <td>0</td>\n",
       "      <td>0</td>\n",
       "      <td>0</td>\n",
       "      <td>0</td>\n",
       "      <td>0</td>\n",
       "      <td>0</td>\n",
       "      <td>0</td>\n",
       "    </tr>\n",
       "    <tr>\n",
       "      <th>2</th>\n",
       "      <td>0</td>\n",
       "      <td>0</td>\n",
       "      <td>1</td>\n",
       "      <td>0</td>\n",
       "      <td>0</td>\n",
       "      <td>0</td>\n",
       "      <td>0</td>\n",
       "      <td>0</td>\n",
       "      <td>0</td>\n",
       "      <td>0</td>\n",
       "      <td>...</td>\n",
       "      <td>0</td>\n",
       "      <td>0</td>\n",
       "      <td>0</td>\n",
       "      <td>0</td>\n",
       "      <td>0</td>\n",
       "      <td>0</td>\n",
       "      <td>0</td>\n",
       "      <td>0</td>\n",
       "      <td>0</td>\n",
       "      <td>0</td>\n",
       "    </tr>\n",
       "    <tr>\n",
       "      <th>4</th>\n",
       "      <td>0</td>\n",
       "      <td>0</td>\n",
       "      <td>1</td>\n",
       "      <td>0</td>\n",
       "      <td>0</td>\n",
       "      <td>0</td>\n",
       "      <td>0</td>\n",
       "      <td>0</td>\n",
       "      <td>0</td>\n",
       "      <td>0</td>\n",
       "      <td>...</td>\n",
       "      <td>0</td>\n",
       "      <td>0</td>\n",
       "      <td>0</td>\n",
       "      <td>0</td>\n",
       "      <td>0</td>\n",
       "      <td>0</td>\n",
       "      <td>0</td>\n",
       "      <td>0</td>\n",
       "      <td>0</td>\n",
       "      <td>0</td>\n",
       "    </tr>\n",
       "    <tr>\n",
       "      <th>5</th>\n",
       "      <td>0</td>\n",
       "      <td>0</td>\n",
       "      <td>1</td>\n",
       "      <td>0</td>\n",
       "      <td>0</td>\n",
       "      <td>0</td>\n",
       "      <td>0</td>\n",
       "      <td>0</td>\n",
       "      <td>0</td>\n",
       "      <td>0</td>\n",
       "      <td>...</td>\n",
       "      <td>0</td>\n",
       "      <td>0</td>\n",
       "      <td>0</td>\n",
       "      <td>0</td>\n",
       "      <td>0</td>\n",
       "      <td>0</td>\n",
       "      <td>0</td>\n",
       "      <td>0</td>\n",
       "      <td>0</td>\n",
       "      <td>0</td>\n",
       "    </tr>\n",
       "  </tbody>\n",
       "</table>\n",
       "<p>5 rows × 31 columns</p>\n",
       "</div>"
      ],
      "text/plain": [
       "   1   2   3   4   5   6   7   8   9   10  ...  22  23  24  25  26  27  28  \\\n",
       "0   0   0   1   0   0   0   0   0   0   0  ...   0   0   0   0   0   0   0   \n",
       "1   0   0   1   0   0   0   0   0   0   0  ...   0   0   0   0   0   0   0   \n",
       "2   0   0   1   0   0   0   0   0   0   0  ...   0   0   0   0   0   0   0   \n",
       "4   0   0   1   0   0   0   0   0   0   0  ...   0   0   0   0   0   0   0   \n",
       "5   0   0   1   0   0   0   0   0   0   0  ...   0   0   0   0   0   0   0   \n",
       "\n",
       "   29  30  31  \n",
       "0   0   0   0  \n",
       "1   0   0   0  \n",
       "2   0   0   0  \n",
       "4   0   0   0  \n",
       "5   0   0   0  \n",
       "\n",
       "[5 rows x 31 columns]"
      ]
     },
     "execution_count": 36,
     "metadata": {},
     "output_type": "execute_result"
    }
   ],
   "source": [
    "DayofMonth_dum= pd.get_dummies(flights2008_df.DayofMonth)\n",
    "DayofMonth_dum.head()"
   ]
  },
  {
   "cell_type": "markdown",
   "id": "189e6ccd",
   "metadata": {},
   "source": [
    "**Estandadirtzo les següents dades numèriques**: Distància , temps de retards variats i velocitat mitjana del data frame que només inclou els vols on s'han reportat els temps de retras per diferents causes:"
   ]
  },
  {
   "cell_type": "code",
   "execution_count": 37,
   "id": "cb732bc2",
   "metadata": {
    "collapsed": true
   },
   "outputs": [],
   "source": [
    "flights2008_df_delays=flights2008_df[(flights2008_df.CarrierDelay!='Unknown') ].copy()"
   ]
  },
  {
   "cell_type": "code",
   "execution_count": 38,
   "id": "22c086a5",
   "metadata": {
    "collapsed": true
   },
   "outputs": [],
   "source": [
    "#Canvio el format de les dades a integer (de str-->int)\n",
    "for i in ['CarrierDelay','WeatherDelay','NASDelay','SecurityDelay','LateAircraftDelay']:\n",
    "    flights2008_df_delays[i]=flights2008_df_delays[i].apply(lambda x: int(x))"
   ]
  },
  {
   "cell_type": "code",
   "execution_count": 39,
   "id": "c9f8fe00",
   "metadata": {
    "collapsed": true
   },
   "outputs": [
    {
     "name": "stdout",
     "output_type": "stream",
     "text": [
      "<class 'pandas.core.frame.DataFrame'>\n",
      "Int64Index: 1247488 entries, 4 to 7009718\n",
      "Data columns (total 27 columns):\n",
      " #   Column             Non-Null Count    Dtype  \n",
      "---  ------             --------------    -----  \n",
      " 0   Month              1247488 non-null  int64  \n",
      " 1   DayofMonth         1247488 non-null  int64  \n",
      " 2   DayOfWeek          1247488 non-null  int64  \n",
      " 3   DepTime            1247488 non-null  float64\n",
      " 4   CRSDepTime         1247488 non-null  int64  \n",
      " 5   ArrTime            1247488 non-null  float64\n",
      " 6   CRSArrTime         1247488 non-null  int64  \n",
      " 7   UniqueCarrier      1247488 non-null  object \n",
      " 8   FlightNum          1247488 non-null  int64  \n",
      " 9   TailNum            1247488 non-null  object \n",
      " 10  ActualElapsedTime  1247488 non-null  float64\n",
      " 11  CRSElapsedTime     1247488 non-null  float64\n",
      " 12  AirTime            1247488 non-null  float64\n",
      " 13  ArrDelay           1247488 non-null  float64\n",
      " 14  DepDelay           1247488 non-null  float64\n",
      " 15  Origin             1247488 non-null  object \n",
      " 16  Dest               1247488 non-null  object \n",
      " 17  Distance           1247488 non-null  int64  \n",
      " 18  TaxiIn             1247488 non-null  float64\n",
      " 19  TaxiOut            1247488 non-null  float64\n",
      " 20  CarrierDelay       1247488 non-null  int64  \n",
      " 21  WeatherDelay       1247488 non-null  int64  \n",
      " 22  NASDelay           1247488 non-null  int64  \n",
      " 23  SecurityDelay      1247488 non-null  int64  \n",
      " 24  LateAircraftDelay  1247488 non-null  int64  \n",
      " 25  Delayed            1247488 non-null  uint8  \n",
      " 26  AverageSpeed       1247488 non-null  float64\n",
      "dtypes: float64(10), int64(12), object(4), uint8(1)\n",
      "memory usage: 258.2+ MB\n"
     ]
    }
   ],
   "source": [
    "flights2008_df_delays.info()"
   ]
  },
  {
   "cell_type": "code",
   "execution_count": 40,
   "id": "43adb91c",
   "metadata": {
    "collapsed": true
   },
   "outputs": [],
   "source": [
    "from sklearn.preprocessing import StandardScaler"
   ]
  },
  {
   "cell_type": "code",
   "execution_count": 41,
   "id": "279e3841",
   "metadata": {
    "collapsed": true
   },
   "outputs": [],
   "source": [
    "scaler = StandardScaler()\n",
    "data = flights2008_df_delays.values[:,[10,11,12,13,17,18,19,20,21,22,23,24]].copy()#agafem els valors a normalitzar i els transformem"
   ]
  },
  {
   "cell_type": "code",
   "execution_count": 45,
   "id": "492e5059",
   "metadata": {
    "collapsed": true
   },
   "outputs": [
    {
     "data": {
      "text/html": [
       "<div>\n",
       "<style scoped>\n",
       "    .dataframe tbody tr th:only-of-type {\n",
       "        vertical-align: middle;\n",
       "    }\n",
       "\n",
       "    .dataframe tbody tr th {\n",
       "        vertical-align: top;\n",
       "    }\n",
       "\n",
       "    .dataframe thead th {\n",
       "        text-align: right;\n",
       "    }\n",
       "</style>\n",
       "<table border=\"1\" class=\"dataframe\">\n",
       "  <thead>\n",
       "    <tr style=\"text-align: right;\">\n",
       "      <th></th>\n",
       "      <th>ActualElapsedTime</th>\n",
       "      <th>CRSElapsedTime</th>\n",
       "      <th>AirTime</th>\n",
       "      <th>DepDelay</th>\n",
       "      <th>Distance</th>\n",
       "      <th>TaxiIn</th>\n",
       "      <th>TaxiOut</th>\n",
       "      <th>CarrierDelay</th>\n",
       "      <th>WeatherDelay</th>\n",
       "      <th>NASDelay</th>\n",
       "      <th>SecurityDelay</th>\n",
       "      <th>LateAircraftDelay</th>\n",
       "    </tr>\n",
       "  </thead>\n",
       "  <tbody>\n",
       "    <tr>\n",
       "      <th>0</th>\n",
       "      <td>-0.627666</td>\n",
       "      <td>-0.600645</td>\n",
       "      <td>-0.446212</td>\n",
       "      <td>-0.482127</td>\n",
       "      <td>-0.405079</td>\n",
       "      <td>-0.712261</td>\n",
       "      <td>-0.639117</td>\n",
       "      <td>-0.394510</td>\n",
       "      <td>-0.172316</td>\n",
       "      <td>-0.443993</td>\n",
       "      <td>-0.044562</td>\n",
       "      <td>0.159400</td>\n",
       "    </tr>\n",
       "    <tr>\n",
       "      <th>1</th>\n",
       "      <td>1.447130</td>\n",
       "      <td>1.700456</td>\n",
       "      <td>1.798030</td>\n",
       "      <td>-0.103552</td>\n",
       "      <td>1.518536</td>\n",
       "      <td>-0.712261</td>\n",
       "      <td>-0.818975</td>\n",
       "      <td>-0.210797</td>\n",
       "      <td>-0.172316</td>\n",
       "      <td>-0.443993</td>\n",
       "      <td>-0.044562</td>\n",
       "      <td>0.516077</td>\n",
       "    </tr>\n",
       "    <tr>\n",
       "      <th>2</th>\n",
       "      <td>-0.198874</td>\n",
       "      <td>0.046539</td>\n",
       "      <td>-0.006165</td>\n",
       "      <td>0.275023</td>\n",
       "      <td>0.154486</td>\n",
       "      <td>-0.215015</td>\n",
       "      <td>-0.759022</td>\n",
       "      <td>-0.256725</td>\n",
       "      <td>-0.172316</td>\n",
       "      <td>-0.443993</td>\n",
       "      <td>-0.044562</td>\n",
       "      <td>1.110539</td>\n",
       "    </tr>\n",
       "    <tr>\n",
       "      <th>3</th>\n",
       "      <td>1.281146</td>\n",
       "      <td>1.556637</td>\n",
       "      <td>1.548669</td>\n",
       "      <td>-0.794864</td>\n",
       "      <td>1.336185</td>\n",
       "      <td>-0.049266</td>\n",
       "      <td>-0.759022</td>\n",
       "      <td>-0.371546</td>\n",
       "      <td>-0.172316</td>\n",
       "      <td>-0.443993</td>\n",
       "      <td>-0.044562</td>\n",
       "      <td>-0.316170</td>\n",
       "    </tr>\n",
       "    <tr>\n",
       "      <th>4</th>\n",
       "      <td>-0.171210</td>\n",
       "      <td>0.046539</td>\n",
       "      <td>0.037840</td>\n",
       "      <td>-0.778404</td>\n",
       "      <td>0.172363</td>\n",
       "      <td>-0.546512</td>\n",
       "      <td>-0.699069</td>\n",
       "      <td>-0.440438</td>\n",
       "      <td>-0.172316</td>\n",
       "      <td>-0.443993</td>\n",
       "      <td>-0.044562</td>\n",
       "      <td>-0.221056</td>\n",
       "    </tr>\n",
       "  </tbody>\n",
       "</table>\n",
       "</div>"
      ],
      "text/plain": [
       "   ActualElapsedTime  CRSElapsedTime   AirTime  DepDelay  Distance    TaxiIn  \\\n",
       "0          -0.627666       -0.600645 -0.446212 -0.482127 -0.405079 -0.712261   \n",
       "1           1.447130        1.700456  1.798030 -0.103552  1.518536 -0.712261   \n",
       "2          -0.198874        0.046539 -0.006165  0.275023  0.154486 -0.215015   \n",
       "3           1.281146        1.556637  1.548669 -0.794864  1.336185 -0.049266   \n",
       "4          -0.171210        0.046539  0.037840 -0.778404  0.172363 -0.546512   \n",
       "\n",
       "    TaxiOut  CarrierDelay  WeatherDelay  NASDelay  SecurityDelay  \\\n",
       "0 -0.639117     -0.394510     -0.172316 -0.443993      -0.044562   \n",
       "1 -0.818975     -0.210797     -0.172316 -0.443993      -0.044562   \n",
       "2 -0.759022     -0.256725     -0.172316 -0.443993      -0.044562   \n",
       "3 -0.759022     -0.371546     -0.172316 -0.443993      -0.044562   \n",
       "4 -0.699069     -0.440438     -0.172316 -0.443993      -0.044562   \n",
       "\n",
       "   LateAircraftDelay  \n",
       "0           0.159400  \n",
       "1           0.516077  \n",
       "2           1.110539  \n",
       "3          -0.316170  \n",
       "4          -0.221056  "
      ]
     },
     "execution_count": 45,
     "metadata": {},
     "output_type": "execute_result"
    }
   ],
   "source": [
    "data = scaler.fit_transform(data)\n",
    "# convertir l'array en un dataframe i l'incorporem a un nou dataframe que conté afegides les columnes amb valors estandaritzats\n",
    "dataset_ = pd.DataFrame(data, columns=list(flights2008_df_delays.iloc[:, [10,11,12,14,17,18,19,20,21,22,23,24]].columns))\n",
    "dataset_.head()\n"
   ]
  },
  {
   "cell_type": "code",
   "execution_count": 46,
   "id": "61f30f90",
   "metadata": {
    "collapsed": true
   },
   "outputs": [
    {
     "name": "stdout",
     "output_type": "stream",
     "text": [
      "<class 'pandas.core.frame.DataFrame'>\n",
      "Int64Index: 1247488 entries, 4 to 7009718\n",
      "Data columns (total 27 columns):\n",
      " #   Column             Non-Null Count    Dtype  \n",
      "---  ------             --------------    -----  \n",
      " 0   Month              1247488 non-null  int64  \n",
      " 1   DayofMonth         1247488 non-null  int64  \n",
      " 2   DayOfWeek          1247488 non-null  int64  \n",
      " 3   DepTime            1247488 non-null  float64\n",
      " 4   CRSDepTime         1247488 non-null  int64  \n",
      " 5   ArrTime            1247488 non-null  float64\n",
      " 6   CRSArrTime         1247488 non-null  int64  \n",
      " 7   UniqueCarrier      1247488 non-null  object \n",
      " 8   FlightNum          1247488 non-null  int64  \n",
      " 9   TailNum            1247488 non-null  object \n",
      " 10  ActualElapsedTime  1247488 non-null  float64\n",
      " 11  CRSElapsedTime     1247488 non-null  float64\n",
      " 12  AirTime            1247488 non-null  float64\n",
      " 13  ArrDelay           1247488 non-null  float64\n",
      " 14  DepDelay           1247488 non-null  float64\n",
      " 15  Origin             1247488 non-null  object \n",
      " 16  Dest               1247488 non-null  object \n",
      " 17  Distance           1247488 non-null  int64  \n",
      " 18  TaxiIn             1247488 non-null  float64\n",
      " 19  TaxiOut            1247488 non-null  float64\n",
      " 20  CarrierDelay       1247488 non-null  int64  \n",
      " 21  WeatherDelay       1247488 non-null  int64  \n",
      " 22  NASDelay           1247488 non-null  int64  \n",
      " 23  SecurityDelay      1247488 non-null  int64  \n",
      " 24  LateAircraftDelay  1247488 non-null  int64  \n",
      " 25  Delayed            1247488 non-null  uint8  \n",
      " 26  AverageSpeed       1247488 non-null  float64\n",
      "dtypes: float64(10), int64(12), object(4), uint8(1)\n",
      "memory usage: 258.2+ MB\n"
     ]
    }
   ],
   "source": [
    "flights2008_df_delays.info()"
   ]
  },
  {
   "cell_type": "code",
   "execution_count": 47,
   "id": "41c2aab1",
   "metadata": {
    "collapsed": true
   },
   "outputs": [
    {
     "data": {
      "text/plain": [
       "array([False])"
      ]
     },
     "execution_count": 47,
     "metadata": {},
     "output_type": "execute_result"
    }
   ],
   "source": [
    "flights2008_df_delays.ArrDelay.isnull().unique()"
   ]
  },
  {
   "cell_type": "code",
   "execution_count": 48,
   "id": "c269714c",
   "metadata": {
    "collapsed": true
   },
   "outputs": [],
   "source": [
    "dataset_['ArrDelay']=list(flights2008_df_delays.ArrDelay)"
   ]
  },
  {
   "cell_type": "code",
   "execution_count": 49,
   "id": "0bc4b3ed",
   "metadata": {
    "collapsed": true
   },
   "outputs": [
    {
     "name": "stdout",
     "output_type": "stream",
     "text": [
      "<class 'pandas.core.frame.DataFrame'>\n",
      "RangeIndex: 1247488 entries, 0 to 1247487\n",
      "Data columns (total 13 columns):\n",
      " #   Column             Non-Null Count    Dtype  \n",
      "---  ------             --------------    -----  \n",
      " 0   ActualElapsedTime  1247488 non-null  float64\n",
      " 1   CRSElapsedTime     1247488 non-null  float64\n",
      " 2   AirTime            1247488 non-null  float64\n",
      " 3   DepDelay           1247488 non-null  float64\n",
      " 4   Distance           1247488 non-null  float64\n",
      " 5   TaxiIn             1247488 non-null  float64\n",
      " 6   TaxiOut            1247488 non-null  float64\n",
      " 7   CarrierDelay       1247488 non-null  float64\n",
      " 8   WeatherDelay       1247488 non-null  float64\n",
      " 9   NASDelay           1247488 non-null  float64\n",
      " 10  SecurityDelay      1247488 non-null  float64\n",
      " 11  LateAircraftDelay  1247488 non-null  float64\n",
      " 12  ArrDelay           1247488 non-null  float64\n",
      "dtypes: float64(13)\n",
      "memory usage: 123.7 MB\n"
     ]
    }
   ],
   "source": [
    "dataset_.info()"
   ]
  },
  {
   "cell_type": "code",
   "execution_count": 50,
   "id": "cc5b47f9",
   "metadata": {
    "collapsed": true
   },
   "outputs": [],
   "source": [
    "dataset_.to_csv('fligth_delays_norm.csv') #el salvem per la 2a part del Sprint"
   ]
  },
  {
   "cell_type": "markdown",
   "id": "65ca4c5f",
   "metadata": {},
   "source": [
    "Genero columnes Dummie en funció de l'hora del dia:\n",
    "    "
   ]
  },
  {
   "cell_type": "code",
   "execution_count": 51,
   "id": "57e50d7c",
   "metadata": {
    "collapsed": true
   },
   "outputs": [],
   "source": [
    "flights2008_df['CRS_Dep_Hour']= flights2008_df.CRSDepTime.apply(lambda x: int(x/100))\n",
    "CRS_Dep_Hour_dum= pd.get_dummies(flights2008_df.CRS_Dep_Hour)\n",
    "flights2008_df.drop(columns ='CRS_Dep_Hour',inplace=True)"
   ]
  },
  {
   "cell_type": "markdown",
   "id": "b68e6fbb",
   "metadata": {},
   "source": [
    "## Nivell 3"
   ]
  },
  {
   "cell_type": "markdown",
   "id": "208af839",
   "metadata": {},
   "source": [
    "**- Exercici 3:**\n",
    "Resumeix les noves columnes generades de manera estadística i gràfica"
   ]
  },
  {
   "cell_type": "markdown",
   "id": "c37ebe39",
   "metadata": {},
   "source": [
    "Distribució de les columnes dummies generades a partir de la destinació i l'origen:"
   ]
  },
  {
   "cell_type": "code",
   "execution_count": 52,
   "id": "391c28d0",
   "metadata": {
    "collapsed": true
   },
   "outputs": [
    {
     "data": {
      "image/png": "[encoded data removed]",
      "text/plain": [
       "<Figure size 432x288 with 1 Axes>"
      ]
     },
     "metadata": {
      "needs_background": "light"
     },
     "output_type": "display_data"
    }
   ],
   "source": [
    "sns.barplot(x=Origin_dum.sum().index, y=Origin_dum.sum().values,palette='viridis')\n",
    "sns.set(rc = {'figure.figsize':(20,14)})"
   ]
  },
  {
   "cell_type": "code",
   "execution_count": 53,
   "id": "208faeeb",
   "metadata": {
    "collapsed": true
   },
   "outputs": [
    {
     "data": {
      "image/png": "[encoded data removed]",
      "text/plain": [
       "<Figure size 1440x1008 with 1 Axes>"
      ]
     },
     "metadata": {},
     "output_type": "display_data"
    }
   ],
   "source": [
    "sns.barplot(x=Dest_dum.sum().index, y=Dest_dum.sum().values,palette='viridis')\n",
    "sns.set(rc = {'figure.figsize':(20,14)})"
   ]
  },
  {
   "cell_type": "markdown",
   "id": "4fab42eb",
   "metadata": {},
   "source": [
    "Distribució de les columnes dummies generades a partir del dia del mes:"
   ]
  },
  {
   "cell_type": "code",
   "execution_count": 54,
   "id": "b1cd3774",
   "metadata": {
    "collapsed": true
   },
   "outputs": [
    {
     "data": {
      "image/png": "[encoded data removed]",
      "text/plain": [
       "<Figure size 1440x1008 with 1 Axes>"
      ]
     },
     "metadata": {},
     "output_type": "display_data"
    }
   ],
   "source": [
    "sns.barplot(x=DayofMonth_dum.sum().index, y=DayofMonth_dum.sum().values,palette='viridis')\n",
    "sns.set(rc = {'figure.figsize':(20,14)})"
   ]
  },
  {
   "cell_type": "markdown",
   "id": "0b9ac086",
   "metadata": {},
   "source": [
    "Distribució de les columnes dummies generades a partir del dia de la setmana:"
   ]
  },
  {
   "cell_type": "code",
   "execution_count": 55,
   "id": "d92d751a",
   "metadata": {
    "collapsed": true
   },
   "outputs": [
    {
     "data": {
      "image/png": "[encoded data removed]",
      "text/plain": [
       "<Figure size 1440x1008 with 1 Axes>"
      ]
     },
     "metadata": {},
     "output_type": "display_data"
    }
   ],
   "source": [
    "sns.barplot(x=DayOfWeek_dum.sum().index, y=DayOfWeek_dum.sum().values,palette='viridis')\n",
    "sns.set(rc = {'figure.figsize':(20,14)})"
   ]
  },
  {
   "cell_type": "markdown",
   "id": "8db9bc3b",
   "metadata": {},
   "source": [
    "Distribució de les columnes dummies generades a partir de l'hora del dia:"
   ]
  },
  {
   "cell_type": "code",
   "execution_count": 56,
   "id": "410318b9",
   "metadata": {
    "collapsed": true
   },
   "outputs": [
    {
     "data": {
      "image/png": "[encoded data removed]",
      "text/plain": [
       "<Figure size 1440x1008 with 1 Axes>"
      ]
     },
     "metadata": {},
     "output_type": "display_data"
    }
   ],
   "source": [
    "sns.barplot(x=CRS_Dep_Hour_dum.sum().index, y=CRS_Dep_Hour_dum.sum().values,palette='viridis')\n",
    "sns.set(rc = {'figure.figsize':(20,14)})\n"
   ]
  },
  {
   "cell_type": "markdown",
   "id": "6a800b3b",
   "metadata": {},
   "source": [
    "Respecte la nova columna nova de velocitat mitjana de cada vol, en treim la informació estadística rellevant i una representació gràfica de la seva distribució:"
   ]
  },
  {
   "cell_type": "code",
   "execution_count": 57,
   "id": "02ee815c",
   "metadata": {
    "collapsed": true
   },
   "outputs": [
    {
     "data": {
      "text/plain": [
       "count    1.928371e+06\n",
       "mean              inf\n",
       "std               NaN\n",
       "min      2.129032e+01\n",
       "25%      3.518644e+02\n",
       "50%      4.038202e+02\n",
       "75%      4.481481e+02\n",
       "max               inf\n",
       "Name: AverageSpeed, dtype: float64"
      ]
     },
     "execution_count": 57,
     "metadata": {},
     "output_type": "execute_result"
    }
   ],
   "source": [
    "flights2008_df.AverageSpeed.describe()"
   ]
  },
  {
   "cell_type": "markdown",
   "id": "80b831a3",
   "metadata": {},
   "source": [
    "Passa quelcom amb les dades perquè la desviació estandard dona malament i la mitja també. Fem una mica d'exploració i veiem que:\n"
   ]
  },
  {
   "cell_type": "code",
   "execution_count": 58,
   "id": "383a9ed5",
   "metadata": {
    "collapsed": true
   },
   "outputs": [
    {
     "data": {
      "text/plain": [
       "7"
      ]
     },
     "execution_count": 58,
     "metadata": {},
     "output_type": "execute_result"
    }
   ],
   "source": [
    "flights2008_df.AirTime[flights2008_df.AirTime==0].count()"
   ]
  },
  {
   "cell_type": "code",
   "execution_count": 59,
   "id": "d6bce35f",
   "metadata": {
    "collapsed": true
   },
   "outputs": [
    {
     "data": {
      "text/plain": [
       "396.9526673648614"
      ]
     },
     "execution_count": 59,
     "metadata": {},
     "output_type": "execute_result"
    }
   ],
   "source": [
    "flights2008_df.AverageSpeed[flights2008_df.AirTime!=0].mean() #velocitat mithana de tots els vols menys els que tenen 0 en temps de vol"
   ]
  },
  {
   "cell_type": "code",
   "execution_count": 60,
   "id": "fd13f2ea",
   "metadata": {
    "collapsed": true
   },
   "outputs": [
    {
     "data": {
      "text/plain": [
       "97.51458797473988"
      ]
     },
     "execution_count": 60,
     "metadata": {},
     "output_type": "execute_result"
    }
   ],
   "source": [
    "flights2008_df.AverageSpeed[flights2008_df.AirTime!=0].std() #desviació standard de tots els vols menys els que tenen 0 en temps de vol"
   ]
  },
  {
   "cell_type": "markdown",
   "id": "a93211ff",
   "metadata": {},
   "source": [
    "Hi ha 7 vols on no s'ha registrat el temps de vol (=0). Per aquests vols els hi adjuticarem una velocitat mitjana de 397 (que és la mitjana de la resta de vols)."
   ]
  },
  {
   "cell_type": "code",
   "execution_count": 61,
   "id": "84e16956",
   "metadata": {
    "collapsed": true
   },
   "outputs": [
    {
     "data": {
      "text/plain": [
       "0          418.965517\n",
       "1          430.088496\n",
       "2          406.578947\n",
       "4          401.298701\n",
       "5          474.482759\n",
       "              ...    \n",
       "7009710    453.000000\n",
       "7009717    370.000000\n",
       "7009718    338.852459\n",
       "7009726    359.325843\n",
       "7009727    504.230769\n",
       "Name: AverageSpeed, Length: 1928371, dtype: float64"
      ]
     },
     "execution_count": 61,
     "metadata": {},
     "output_type": "execute_result"
    }
   ],
   "source": [
    "def remove0 (value):\n",
    "    x=0\n",
    "    if value==0:\n",
    "        x=397\n",
    "    else:\n",
    "        x=value\n",
    "    return x\n",
    "\n",
    "\n",
    "flights2008_df.AverageSpeed.apply(remove0)"
   ]
  },
  {
   "cell_type": "code",
   "execution_count": 62,
   "id": "b616c37e",
   "metadata": {
    "collapsed": true
   },
   "outputs": [
    {
     "data": {
      "text/plain": [
       "count    1.928371e+06\n",
       "mean              inf\n",
       "std               NaN\n",
       "min      2.129032e+01\n",
       "25%      3.518644e+02\n",
       "50%      4.038202e+02\n",
       "75%      4.481481e+02\n",
       "max               inf\n",
       "Name: AverageSpeed, dtype: float64"
      ]
     },
     "execution_count": 62,
     "metadata": {},
     "output_type": "execute_result"
    }
   ],
   "source": [
    "flights2008_df.AverageSpeed.describe() #Extraiem la info estadística rellevant"
   ]
  },
  {
   "cell_type": "markdown",
   "id": "1777f00e",
   "metadata": {},
   "source": [
    "Procedim amb la visualització gràfica de la distribució de les velocitats mitjanes:\n"
   ]
  },
  {
   "cell_type": "code",
   "execution_count": 63,
   "id": "9fcb1920",
   "metadata": {
    "collapsed": true
   },
   "outputs": [
    {
     "data": {
      "image/png": "[encoded data removed]",
      "text/plain": [
       "<Figure size 360x360 with 1 Axes>"
      ]
     },
     "metadata": {},
     "output_type": "display_data"
    }
   ],
   "source": [
    "graf_AS=sns.displot(data=flights2008_df.AverageSpeed)\n",
    "graf_AS.set(xlim=(0,700))\n",
    "graf_AS.set(ylim=(0,20000))\n",
    "sns.set(rc = {'figure.figsize':(20,14)})"
   ]
  },
  {
   "cell_type": "markdown",
   "id": "42760c72",
   "metadata": {},
   "source": [
    "Representem les distribucions de les dades normalitzades i veiem que és identica a la de les dades inicials:"
   ]
  },
  {
   "cell_type": "code",
   "execution_count": 64,
   "id": "704b6f9d",
   "metadata": {
    "collapsed": true
   },
   "outputs": [
    {
     "data": {
      "image/png": "[encoded data removed]",
      "text/plain": [
       "<Figure size 1440x1008 with 16 Axes>"
      ]
     },
     "metadata": {},
     "output_type": "display_data"
    }
   ],
   "source": [
    "dataset_.hist()\n",
    "plt.show()"
   ]
  },
  {
   "cell_type": "code",
   "execution_count": 65,
   "id": "f1338559",
   "metadata": {
    "collapsed": true
   },
   "outputs": [
    {
     "name": "stdout",
     "output_type": "stream",
     "text": [
      "Wall time: 1.76 s\n"
     ]
    },
    {
     "data": {
      "image/png": "[encoded data removed]",
      "text/plain": [
       "<Figure size 1440x1008 with 16 Axes>"
      ]
     },
     "metadata": {},
     "output_type": "display_data"
    }
   ],
   "source": [
    "%time flights2008_df_delays.iloc[:,[10,11,12,13,14,17,18,19,20,21,22,23,24]].hist()\n",
    "plt.show() "
   ]
  }
 ],
 "metadata": {
  "kernelspec": {
   "display_name": "Python 3 (ipykernel)",
   "language": "python",
   "name": "python3"
  },
  "language_info": {
   "codemirror_mode": {
    "name": "ipython",
    "version": 3
   },
   "file_extension": ".py",
   "mimetype": "text/x-python",
   "name": "python",
   "nbconvert_exporter": "python",
   "pygments_lexer": "ipython3",
   "version": "3.7.12"
  }
 },
 "nbformat": 4,
 "nbformat_minor": 5
}
